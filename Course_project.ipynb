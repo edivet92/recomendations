{
 "cells": [
  {
   "cell_type": "code",
   "execution_count": 142,
   "id": "70a87330",
   "metadata": {},
   "outputs": [
    {
     "name": "stdout",
     "output_type": "stream",
     "text": [
      "The autoreload extension is already loaded. To reload it, use:\n",
      "  %reload_ext autoreload\n"
     ]
    }
   ],
   "source": [
    "%load_ext autoreload\n",
    "%autoreload 2"
   ]
  },
  {
   "cell_type": "code",
   "execution_count": 143,
   "id": "5f4f98ea",
   "metadata": {},
   "outputs": [],
   "source": [
    "import pandas as pd\n",
    "import numpy as np\n",
    "#import matplotlib.pyplot as plt\n",
    "#%matplotlib inline\n",
    "\n",
    "\n",
    "# Функции из 1-ого вебинара\n",
    "import os, sys\n",
    "\n",
    "module_path = os.path.abspath(os.path.join(os.pardir))\n",
    "if module_path not in sys.path:\n",
    "    sys.path.append(module_path)\n",
    "    \n",
    "from src.metrics import precision_at_k, recall_at_k\n",
    "from src.utils import prefilter_items, prefilter_items_result\n",
    "from src.recommenders import MainRecommender"
   ]
  },
  {
   "cell_type": "code",
   "execution_count": 144,
   "id": "cd4dd874",
   "metadata": {},
   "outputs": [],
   "source": [
    "data = pd.read_csv('./raw_data/retail_train.csv')\n",
    "item_features = pd.read_csv('./raw_data/product.csv')\n",
    "user_features = pd.read_csv('./raw_data/hh_demographic.csv')\n",
    "\n",
    "item_features.columns = [col.lower() for col in item_features.columns]\n",
    "user_features.columns = [col.lower() for col in user_features.columns]\n",
    "\n",
    "item_features.rename(columns={'product_id': 'item_id'}, inplace=True)\n",
    "user_features.rename(columns={'household_key': 'user_id'}, inplace=True)"
   ]
  },
  {
   "cell_type": "code",
   "execution_count": 145,
   "id": "7796ea47",
   "metadata": {},
   "outputs": [
    {
     "data": {
      "text/html": [
       "<div>\n",
       "<style scoped>\n",
       "    .dataframe tbody tr th:only-of-type {\n",
       "        vertical-align: middle;\n",
       "    }\n",
       "\n",
       "    .dataframe tbody tr th {\n",
       "        vertical-align: top;\n",
       "    }\n",
       "\n",
       "    .dataframe thead th {\n",
       "        text-align: right;\n",
       "    }\n",
       "</style>\n",
       "<table border=\"1\" class=\"dataframe\">\n",
       "  <thead>\n",
       "    <tr style=\"text-align: right;\">\n",
       "      <th></th>\n",
       "      <th>user_id</th>\n",
       "      <th>basket_id</th>\n",
       "      <th>day</th>\n",
       "      <th>item_id</th>\n",
       "      <th>quantity</th>\n",
       "      <th>sales_value</th>\n",
       "      <th>store_id</th>\n",
       "      <th>retail_disc</th>\n",
       "      <th>trans_time</th>\n",
       "      <th>week_no</th>\n",
       "      <th>coupon_disc</th>\n",
       "      <th>coupon_match_disc</th>\n",
       "    </tr>\n",
       "  </thead>\n",
       "  <tbody>\n",
       "    <tr>\n",
       "      <th>0</th>\n",
       "      <td>2375</td>\n",
       "      <td>26984851472</td>\n",
       "      <td>1</td>\n",
       "      <td>1004906</td>\n",
       "      <td>1</td>\n",
       "      <td>1.39</td>\n",
       "      <td>364</td>\n",
       "      <td>-0.6</td>\n",
       "      <td>1631</td>\n",
       "      <td>1</td>\n",
       "      <td>0.0</td>\n",
       "      <td>0.0</td>\n",
       "    </tr>\n",
       "    <tr>\n",
       "      <th>1</th>\n",
       "      <td>2375</td>\n",
       "      <td>26984851472</td>\n",
       "      <td>1</td>\n",
       "      <td>1033142</td>\n",
       "      <td>1</td>\n",
       "      <td>0.82</td>\n",
       "      <td>364</td>\n",
       "      <td>0.0</td>\n",
       "      <td>1631</td>\n",
       "      <td>1</td>\n",
       "      <td>0.0</td>\n",
       "      <td>0.0</td>\n",
       "    </tr>\n",
       "  </tbody>\n",
       "</table>\n",
       "</div>"
      ],
      "text/plain": [
       "   user_id    basket_id  day  item_id  quantity  sales_value  store_id  \\\n",
       "0     2375  26984851472    1  1004906         1         1.39       364   \n",
       "1     2375  26984851472    1  1033142         1         0.82       364   \n",
       "\n",
       "   retail_disc  trans_time  week_no  coupon_disc  coupon_match_disc  \n",
       "0         -0.6        1631        1          0.0                0.0  \n",
       "1          0.0        1631        1          0.0                0.0  "
      ]
     },
     "execution_count": 145,
     "metadata": {},
     "output_type": "execute_result"
    }
   ],
   "source": [
    "val_lvl_1_size_weeks = 6\n",
    "val_lvl_2_size_weeks = 3\n",
    "\n",
    "data_train_lvl_1 = data[data['week_no'] < data['week_no'].max() - (val_lvl_1_size_weeks + val_lvl_2_size_weeks)]\n",
    "data_val_lvl_1 = data[(data['week_no'] >= data['week_no'].max() - (val_lvl_1_size_weeks + val_lvl_2_size_weeks)) &\n",
    "                      (data['week_no'] < data['week_no'].max() - (val_lvl_2_size_weeks))]\n",
    "\n",
    "data_train_lvl_2 = data_val_lvl_1.copy()  # Для наглядности. Далее мы добавим изменения, и они будут отличаться\n",
    "data_val_lvl_2 = data[data['week_no'] >= data['week_no'].max() - val_lvl_2_size_weeks]\n",
    "\n",
    "data_train_lvl_1.head(2)"
   ]
  },
  {
   "cell_type": "code",
   "execution_count": 146,
   "id": "99b102e1",
   "metadata": {},
   "outputs": [],
   "source": [
    "users_lvl_1 = data_train_lvl_1.user_id.unique()\n",
    "users_lvl_2 = data_val_lvl_1.user_id.unique()\n",
    "users_lvl_3 = data_val_lvl_2.user_id.unique()\n",
    "\n",
    "new_users_lvl_2 = list(set(users_lvl_2) - set(users_lvl_1))\n",
    "new_users_lvl_3 = list(set(users_lvl_3) - (set(users_lvl_1) | set(users_lvl_2)))\n",
    "\n",
    "add_to_lvl_2 = list(set(users_lvl_3) - (set(users_lvl_2)))"
   ]
  },
  {
   "cell_type": "code",
   "execution_count": 147,
   "id": "16297b63",
   "metadata": {},
   "outputs": [
    {
     "data": {
      "text/plain": [
       "user_id                2499\n",
       "basket_id            257001\n",
       "day                     663\n",
       "item_id               89051\n",
       "quantity              11246\n",
       "sales_value            5435\n",
       "store_id                573\n",
       "retail_disc            2364\n",
       "trans_time             1440\n",
       "week_no                  95\n",
       "coupon_disc             393\n",
       "coupon_match_disc        79\n",
       "dtype: int64"
      ]
     },
     "execution_count": 147,
     "metadata": {},
     "output_type": "execute_result"
    }
   ],
   "source": [
    "data.nunique()"
   ]
  },
  {
   "cell_type": "code",
   "execution_count": 148,
   "id": "352cdad1",
   "metadata": {},
   "outputs": [
    {
     "data": {
      "text/plain": [
       "item_id                 92353\n",
       "manufacturer             6476\n",
       "department                 44\n",
       "brand                       2\n",
       "commodity_desc            308\n",
       "sub_commodity_desc       2383\n",
       "curr_size_of_product     4345\n",
       "dtype: int64"
      ]
     },
     "execution_count": 148,
     "metadata": {},
     "output_type": "execute_result"
    }
   ],
   "source": [
    "item_features.nunique()"
   ]
  },
  {
   "cell_type": "code",
   "execution_count": 149,
   "id": "96f18e55",
   "metadata": {},
   "outputs": [
    {
     "data": {
      "text/plain": [
       "age_desc                 6\n",
       "marital_status_code      3\n",
       "income_desc             12\n",
       "homeowner_desc           5\n",
       "hh_comp_desc             6\n",
       "household_size_desc      5\n",
       "kid_category_desc        4\n",
       "user_id                801\n",
       "dtype: int64"
      ]
     },
     "execution_count": 149,
     "metadata": {},
     "output_type": "execute_result"
    }
   ],
   "source": [
    "user_features.nunique()"
   ]
  },
  {
   "cell_type": "code",
   "execution_count": 150,
   "id": "64a4d909",
   "metadata": {},
   "outputs": [
    {
     "data": {
      "text/plain": [
       "array(['GROCERY', 'MISC. TRANS.', 'PASTRY', 'DRUG GM', 'MEAT-PCKGD',\n",
       "       'SEAFOOD-PCKGD', 'PRODUCE', 'NUTRITION', 'DELI', 'COSMETICS',\n",
       "       'MEAT', 'FLORAL', 'TRAVEL & LEISUR', 'SEAFOOD', 'MISC SALES TRAN',\n",
       "       'SALAD BAR', 'KIOSK-GAS', 'ELECT &PLUMBING', 'GRO BAKERY',\n",
       "       'GM MERCH EXP', 'FROZEN GROCERY', 'COUP/STR & MFG', 'SPIRITS',\n",
       "       'GARDEN CENTER', 'TOYS', 'CHARITABLE CONT', 'RESTAURANT', 'RX',\n",
       "       'PROD-WHS SALES', 'MEAT-WHSE', 'DAIRY DELI', 'CHEF SHOPPE', 'HBC',\n",
       "       'DELI/SNACK BAR', 'PORK', 'AUTOMOTIVE', 'VIDEO RENTAL', ' ',\n",
       "       'CNTRL/STORE SUP', 'HOUSEWARES', 'POSTAL CENTER', 'PHOTO', 'VIDEO',\n",
       "       'PHARMACY SUPPLY'], dtype=object)"
      ]
     },
     "execution_count": 150,
     "metadata": {},
     "output_type": "execute_result"
    }
   ],
   "source": [
    "item_features['department'].unique()"
   ]
  },
  {
   "cell_type": "code",
   "execution_count": 151,
   "id": "b6311af4",
   "metadata": {},
   "outputs": [
    {
     "name": "stdout",
     "output_type": "stream",
     "text": [
      "Decreased # items from 83685 to 5001\n"
     ]
    }
   ],
   "source": [
    "n_items_before = data_train_lvl_1['item_id'].nunique()\n",
    "data_train_lvl_1 = prefilter_items(data_train_lvl_1, item_features=item_features, take_n_popular=5000)\n",
    "n_items_after = data_train_lvl_1['item_id'].nunique()\n",
    "print('Decreased # items from {} to {}'.format(n_items_before, n_items_after))"
   ]
  },
  {
   "cell_type": "code",
   "execution_count": 152,
   "id": "391e6216",
   "metadata": {},
   "outputs": [
    {
     "data": {
      "text/html": [
       "<div>\n",
       "<style scoped>\n",
       "    .dataframe tbody tr th:only-of-type {\n",
       "        vertical-align: middle;\n",
       "    }\n",
       "\n",
       "    .dataframe tbody tr th {\n",
       "        vertical-align: top;\n",
       "    }\n",
       "\n",
       "    .dataframe thead th {\n",
       "        text-align: right;\n",
       "    }\n",
       "</style>\n",
       "<table border=\"1\" class=\"dataframe\">\n",
       "  <thead>\n",
       "    <tr style=\"text-align: right;\">\n",
       "      <th></th>\n",
       "      <th>age_desc</th>\n",
       "      <th>marital_status_code</th>\n",
       "      <th>income_desc</th>\n",
       "      <th>homeowner_desc</th>\n",
       "      <th>hh_comp_desc</th>\n",
       "      <th>household_size_desc</th>\n",
       "      <th>kid_category_desc</th>\n",
       "      <th>user_id</th>\n",
       "    </tr>\n",
       "  </thead>\n",
       "  <tbody>\n",
       "    <tr>\n",
       "      <th>0</th>\n",
       "      <td>70</td>\n",
       "      <td>1</td>\n",
       "      <td>40</td>\n",
       "      <td>4</td>\n",
       "      <td>4</td>\n",
       "      <td>2</td>\n",
       "      <td>0</td>\n",
       "      <td>1</td>\n",
       "    </tr>\n",
       "    <tr>\n",
       "      <th>1</th>\n",
       "      <td>50</td>\n",
       "      <td>1</td>\n",
       "      <td>62</td>\n",
       "      <td>4</td>\n",
       "      <td>4</td>\n",
       "      <td>2</td>\n",
       "      <td>0</td>\n",
       "      <td>7</td>\n",
       "    </tr>\n",
       "  </tbody>\n",
       "</table>\n",
       "</div>"
      ],
      "text/plain": [
       "   age_desc  marital_status_code  income_desc  homeowner_desc  hh_comp_desc  \\\n",
       "0        70                    1           40               4             4   \n",
       "1        50                    1           62               4             4   \n",
       "\n",
       "   household_size_desc  kid_category_desc  user_id  \n",
       "0                    2                  0        1  \n",
       "1                    2                  0        7  "
      ]
     },
     "execution_count": 152,
     "metadata": {},
     "output_type": "execute_result"
    }
   ],
   "source": [
    "user_features['age_desc'].replace(\n",
    "    {'19-24': 20, '25-34': 30, '35-44': 40, '45-54': 50, '55-64': 60, '65+': 70},\n",
    "    inplace=True)\n",
    "\n",
    "user_features['marital_status_code'].replace(\n",
    "    {'U': 0, 'A': 1, 'B': 2}, inplace=True)\n",
    "\n",
    "user_features['income_desc'].replace(\n",
    "    {'Under 15K': 10, '15-24K': 20, '25-34K':30, '35-49K': 40,\n",
    "     '50-74K': 62, '75-99K': 87, '100-124K': 112, '125-149K': 137, \n",
    "     '150-174K': 162, '175-199K': 187, '200-249K': 225, '250K+':275}, inplace=True)\n",
    "\n",
    "user_features['homeowner_desc'].replace(\n",
    "    {'Unknown': 0, 'Probable Renter': 1, 'Renter': 2,\n",
    "     'Probable Owner': 3, 'Homeowner': 4}, inplace=True)\n",
    "\n",
    "user_features['hh_comp_desc'].replace(\n",
    "    {'Unknown': 0, 'Single Male': 1, 'Single Female': 2,\n",
    "     '1 Adult Kids': 3, '2 Adults No Kids': 4, '2 Adults Kids':5},inplace=True)\n",
    "\n",
    "user_features['household_size_desc'].replace(\n",
    "    {'1': 1, '2': 2, '3': 3, '4': 4, '5+': 5}, inplace=True) \n",
    "\n",
    "user_features['kid_category_desc'].replace(\n",
    "    {'None/Unknown': 0, '1': 1, '2': 2, '3+': 3}, inplace=True)\n",
    "\n",
    "user_features.head(2)"
   ]
  },
  {
   "cell_type": "code",
   "execution_count": 153,
   "id": "f0924cf3",
   "metadata": {},
   "outputs": [
    {
     "data": {
      "text/plain": [
       "array([2, 3, 4, 1, 5], dtype=int64)"
      ]
     },
     "execution_count": 153,
     "metadata": {},
     "output_type": "execute_result"
    }
   ],
   "source": [
    "user_features['household_size_desc'].unique()"
   ]
  },
  {
   "cell_type": "code",
   "execution_count": 154,
   "id": "bed81681",
   "metadata": {},
   "outputs": [
    {
     "data": {
      "text/html": [
       "<div>\n",
       "<style scoped>\n",
       "    .dataframe tbody tr th:only-of-type {\n",
       "        vertical-align: middle;\n",
       "    }\n",
       "\n",
       "    .dataframe tbody tr th {\n",
       "        vertical-align: top;\n",
       "    }\n",
       "\n",
       "    .dataframe thead th {\n",
       "        text-align: right;\n",
       "    }\n",
       "</style>\n",
       "<table border=\"1\" class=\"dataframe\">\n",
       "  <thead>\n",
       "    <tr style=\"text-align: right;\">\n",
       "      <th></th>\n",
       "      <th>item_id</th>\n",
       "      <th>manufacturer</th>\n",
       "      <th>department</th>\n",
       "      <th>brand</th>\n",
       "      <th>commodity_desc</th>\n",
       "      <th>sub_commodity_desc</th>\n",
       "      <th>curr_size_of_product</th>\n",
       "      <th>manufacturer_freq</th>\n",
       "      <th>department_freq</th>\n",
       "      <th>commodity_desc_freq</th>\n",
       "      <th>sub_commodity_desc_freq</th>\n",
       "      <th>curr_size_of_product_freq</th>\n",
       "      <th>commodity_category</th>\n",
       "    </tr>\n",
       "  </thead>\n",
       "  <tbody>\n",
       "    <tr>\n",
       "      <th>0</th>\n",
       "      <td>25671</td>\n",
       "      <td>2</td>\n",
       "      <td>GROCERY</td>\n",
       "      <td>1</td>\n",
       "      <td>FRZN ICE</td>\n",
       "      <td>ICE - CRUSHED/CUBED</td>\n",
       "      <td>22 LB</td>\n",
       "      <td>1411.0</td>\n",
       "      <td>39021.0</td>\n",
       "      <td>29.0</td>\n",
       "      <td>29.0</td>\n",
       "      <td>12.0</td>\n",
       "      <td>269.0</td>\n",
       "    </tr>\n",
       "    <tr>\n",
       "      <th>1</th>\n",
       "      <td>26081</td>\n",
       "      <td>2</td>\n",
       "      <td>MISC. TRANS.</td>\n",
       "      <td>1</td>\n",
       "      <td>NO COMMODITY DESCRIPTION</td>\n",
       "      <td>NO SUBCOMMODITY DESCRIPTION</td>\n",
       "      <td></td>\n",
       "      <td>1411.0</td>\n",
       "      <td>490.0</td>\n",
       "      <td>490.0</td>\n",
       "      <td>429.0</td>\n",
       "      <td>30607.0</td>\n",
       "      <td>56.0</td>\n",
       "    </tr>\n",
       "  </tbody>\n",
       "</table>\n",
       "</div>"
      ],
      "text/plain": [
       "   item_id  manufacturer    department  brand            commodity_desc  \\\n",
       "0    25671             2       GROCERY      1                  FRZN ICE   \n",
       "1    26081             2  MISC. TRANS.      1  NO COMMODITY DESCRIPTION   \n",
       "\n",
       "            sub_commodity_desc curr_size_of_product  manufacturer_freq  \\\n",
       "0          ICE - CRUSHED/CUBED                22 LB             1411.0   \n",
       "1  NO SUBCOMMODITY DESCRIPTION                                  1411.0   \n",
       "\n",
       "   department_freq  commodity_desc_freq  sub_commodity_desc_freq  \\\n",
       "0          39021.0                 29.0                     29.0   \n",
       "1            490.0                490.0                    429.0   \n",
       "\n",
       "   curr_size_of_product_freq  commodity_category  \n",
       "0                       12.0               269.0  \n",
       "1                    30607.0                56.0  "
      ]
     },
     "execution_count": 154,
     "metadata": {},
     "output_type": "execute_result"
    }
   ],
   "source": [
    "names = ['manufacturer', 'department', 'commodity_desc', 'sub_commodity_desc', 'curr_size_of_product']\n",
    "for name in names:\n",
    "    new_name = name + '_freq'\n",
    "    a = item_features[name].value_counts()\n",
    "    ind = a.index.tolist()\n",
    "    for i in ind:\n",
    "        item_features.loc[item_features[name] == i, new_name] = a[i]\n",
    "\n",
    "item_features['brand'] = np.where(item_features['brand']=='Private', 0, 1)\n",
    "\n",
    "commodities = item_features.commodity_desc.value_counts()\n",
    "commodities_list = commodities.keys().tolist()\n",
    "for i, name in enumerate(commodities_list):\n",
    "    item_features.loc[item_features['commodity_desc'] == name, 'commodity_category'] = i\n",
    "\n",
    "item_features.head(2)"
   ]
  },
  {
   "cell_type": "code",
   "execution_count": 155,
   "id": "dc3600b4",
   "metadata": {},
   "outputs": [],
   "source": [
    "def get_user_item_features(data_train_lvl_1):\n",
    "    # час совершения транзакции\n",
    "    X = data_train_lvl_1.copy()\n",
    "    X['hour'] = X['trans_time'] // 100\n",
    "    user_item_features = X.groupby(['user_id', 'item_id'])['hour'].median().reset_index()\n",
    "    user_item_features.columns = ['user_id', 'item_id', 'median_sales_hour']\n",
    "    \n",
    "    # день недели совершения транзакции\n",
    "    X['weekday'] = X['day'] % 7\n",
    "    df = X.groupby(['user_id', 'item_id'])['weekday'].median().reset_index()\n",
    "    df.columns = ['user_id', 'item_id', 'median_weekday']\n",
    "    user_item_features = user_item_features.merge(df, on=['user_id', 'item_id'])\n",
    "    \n",
    "    # cреднее кол-во дней между покупками\n",
    "    df = X.groupby('user_id')['day'].nunique().reset_index()\n",
    "    df['mean_visits_interval'] = (X.groupby('user_id')['day'].max() - X.groupby('user_id')['day'].min()) / df['day']\n",
    "    user_item_features = user_item_features.merge(df[['user_id', 'mean_visits_interval']], on=['user_id'])\n",
    "    \n",
    "    # средний чек корзины клиента\n",
    "    df = X.groupby(['user_id', 'basket_id'])['sales_value'].sum().reset_index()\n",
    "    df = df.groupby('user_id')['sales_value'].mean().reset_index()\n",
    "    df.columns = ['user_id', 'mean_check']\n",
    "    user_item_features = user_item_features.merge(df, on=['user_id'])\n",
    "    \n",
    "    # кол-во магазинов, в которых продавался товар\n",
    "    df = X.groupby(['item_id'])['store_id'].nunique().reset_index()\n",
    "    df.columns = ['item_id', 'n_stores']\n",
    "    user_item_features = user_item_features.merge(df, on=['item_id'])\n",
    "    \n",
    "    # кол-во уникальных товаров, купленных клиентом\n",
    "    df = X.groupby(['user_id'])['item_id'].nunique().reset_index()\n",
    "    df.columns = ['user_id', 'n_items']\n",
    "    user_item_features = user_item_features.merge(df, on=['user_id'])\n",
    "    \n",
    "    # кол-во транзакций клиента\n",
    "    df = X.groupby(['user_id'])['item_id'].count().reset_index()\n",
    "    df.columns = ['user_id', 'n_transactions']\n",
    "    user_item_features = user_item_features.merge(df, on=['user_id'])\n",
    "    \n",
    "    # mean / max / std кол-ва уникальных товаров в корзине клиента\n",
    "    df = X.groupby(['user_id', 'basket_id'])['item_id'].nunique().reset_index()\n",
    "    df1 = df.groupby('user_id')['item_id'].mean().reset_index()\n",
    "    df1.columns = ['user_id', 'mean_n_items_basket']\n",
    "    user_item_features = user_item_features.merge(df1, on=['user_id'])\n",
    "\n",
    "    df2 = df.groupby('user_id')['item_id'].max().reset_index()\n",
    "    df2.columns = ['user_id', 'max_n_items_basket']\n",
    "    user_item_features = user_item_features.merge(df2, on=['user_id'])\n",
    "\n",
    "    df3 = df.groupby('user_id')['item_id'].std().reset_index()\n",
    "    df3.columns = ['user_id', 'std_n_items_basket']\n",
    "    user_item_features = user_item_features.merge(df3, on=['user_id'])\n",
    " \n",
    "    # эмбеддинги товаров\n",
    "    recommender = MainRecommender(X)\n",
    "    df = recommender.model.item_factors\n",
    "    n_factors = recommender.model.factors\n",
    "    ind = list(recommender.id_to_itemid.values())\n",
    "    df = pd.DataFrame(df, index=ind).reset_index()\n",
    "    df.columns = ['item_id'] + ['factor_' + str(i + 1) for i in range(n_factors)]\n",
    "    user_item_features = user_item_features.merge(df, on=['item_id'])\n",
    "    \n",
    "    # эмбеддинги пользователей\n",
    "    df = recommender.model.user_factors\n",
    "    ind = list(recommender.id_to_userid.values())\n",
    "    df = pd.DataFrame(df, index=ind).reset_index()\n",
    "    df.columns = ['user_id'] + ['user_factor_' + str(i + 1) for i in range(n_factors)]\n",
    "    user_item_features = user_item_features.merge(df, on=['user_id'])\n",
    "    \n",
    "    return user_item_features"
   ]
  },
  {
   "cell_type": "code",
   "execution_count": 156,
   "id": "523770b8",
   "metadata": {},
   "outputs": [
    {
     "data": {
      "application/vnd.jupyter.widget-view+json": {
       "model_id": "534bf85ab63b42e0b3860d87f944e7df",
       "version_major": 2,
       "version_minor": 0
      },
      "text/plain": [
       "  0%|          | 0/15 [00:00<?, ?it/s]"
      ]
     },
     "metadata": {},
     "output_type": "display_data"
    },
    {
     "data": {
      "application/vnd.jupyter.widget-view+json": {
       "model_id": "2e74bbcc14ba4519a8f1aa8df11992d3",
       "version_major": 2,
       "version_minor": 0
      },
      "text/plain": [
       "  0%|          | 0/5001 [00:00<?, ?it/s]"
      ]
     },
     "metadata": {},
     "output_type": "display_data"
    },
    {
     "data": {
      "text/html": [
       "<div>\n",
       "<style scoped>\n",
       "    .dataframe tbody tr th:only-of-type {\n",
       "        vertical-align: middle;\n",
       "    }\n",
       "\n",
       "    .dataframe tbody tr th {\n",
       "        vertical-align: top;\n",
       "    }\n",
       "\n",
       "    .dataframe thead th {\n",
       "        text-align: right;\n",
       "    }\n",
       "</style>\n",
       "<table border=\"1\" class=\"dataframe\">\n",
       "  <thead>\n",
       "    <tr style=\"text-align: right;\">\n",
       "      <th></th>\n",
       "      <th>user_id</th>\n",
       "      <th>item_id</th>\n",
       "      <th>median_sales_hour</th>\n",
       "      <th>median_weekday</th>\n",
       "      <th>mean_visits_interval</th>\n",
       "      <th>mean_check</th>\n",
       "      <th>n_stores</th>\n",
       "      <th>n_items</th>\n",
       "      <th>n_transactions</th>\n",
       "      <th>mean_n_items_basket</th>\n",
       "      <th>...</th>\n",
       "      <th>user_factor_91</th>\n",
       "      <th>user_factor_92</th>\n",
       "      <th>user_factor_93</th>\n",
       "      <th>user_factor_94</th>\n",
       "      <th>user_factor_95</th>\n",
       "      <th>user_factor_96</th>\n",
       "      <th>user_factor_97</th>\n",
       "      <th>user_factor_98</th>\n",
       "      <th>user_factor_99</th>\n",
       "      <th>user_factor_100</th>\n",
       "    </tr>\n",
       "  </thead>\n",
       "  <tbody>\n",
       "    <tr>\n",
       "      <th>0</th>\n",
       "      <td>1</td>\n",
       "      <td>823721</td>\n",
       "      <td>13.0</td>\n",
       "      <td>4.0</td>\n",
       "      <td>NaN</td>\n",
       "      <td>28.469818</td>\n",
       "      <td>94</td>\n",
       "      <td>176</td>\n",
       "      <td>470</td>\n",
       "      <td>8.509091</td>\n",
       "      <td>...</td>\n",
       "      <td>10.428677</td>\n",
       "      <td>-0.955832</td>\n",
       "      <td>-2.664369</td>\n",
       "      <td>1.990289</td>\n",
       "      <td>3.105688</td>\n",
       "      <td>3.075443</td>\n",
       "      <td>2.453309</td>\n",
       "      <td>3.66375</td>\n",
       "      <td>-4.293387</td>\n",
       "      <td>-7.070677</td>\n",
       "    </tr>\n",
       "    <tr>\n",
       "      <th>1</th>\n",
       "      <td>1</td>\n",
       "      <td>823990</td>\n",
       "      <td>15.0</td>\n",
       "      <td>6.0</td>\n",
       "      <td>NaN</td>\n",
       "      <td>28.469818</td>\n",
       "      <td>95</td>\n",
       "      <td>176</td>\n",
       "      <td>470</td>\n",
       "      <td>8.509091</td>\n",
       "      <td>...</td>\n",
       "      <td>10.428677</td>\n",
       "      <td>-0.955832</td>\n",
       "      <td>-2.664369</td>\n",
       "      <td>1.990289</td>\n",
       "      <td>3.105688</td>\n",
       "      <td>3.075443</td>\n",
       "      <td>2.453309</td>\n",
       "      <td>3.66375</td>\n",
       "      <td>-4.293387</td>\n",
       "      <td>-7.070677</td>\n",
       "    </tr>\n",
       "  </tbody>\n",
       "</table>\n",
       "<p>2 rows × 212 columns</p>\n",
       "</div>"
      ],
      "text/plain": [
       "   user_id  item_id  median_sales_hour  median_weekday  mean_visits_interval  \\\n",
       "0        1   823721               13.0             4.0                   NaN   \n",
       "1        1   823990               15.0             6.0                   NaN   \n",
       "\n",
       "   mean_check  n_stores  n_items  n_transactions  mean_n_items_basket  ...  \\\n",
       "0   28.469818        94      176             470             8.509091  ...   \n",
       "1   28.469818        95      176             470             8.509091  ...   \n",
       "\n",
       "   user_factor_91  user_factor_92  user_factor_93  user_factor_94  \\\n",
       "0       10.428677       -0.955832       -2.664369        1.990289   \n",
       "1       10.428677       -0.955832       -2.664369        1.990289   \n",
       "\n",
       "   user_factor_95  user_factor_96  user_factor_97  user_factor_98  \\\n",
       "0        3.105688        3.075443        2.453309         3.66375   \n",
       "1        3.105688        3.075443        2.453309         3.66375   \n",
       "\n",
       "   user_factor_99  user_factor_100  \n",
       "0       -4.293387        -7.070677  \n",
       "1       -4.293387        -7.070677  \n",
       "\n",
       "[2 rows x 212 columns]"
      ]
     },
     "execution_count": 156,
     "metadata": {},
     "output_type": "execute_result"
    }
   ],
   "source": [
    "user_item_features = get_user_item_features(data_train_lvl_1)\n",
    "user_item_features.head(2)"
   ]
  },
  {
   "cell_type": "code",
   "execution_count": 157,
   "id": "3a659698",
   "metadata": {},
   "outputs": [],
   "source": [
    "def get_candidates(data_train_lvl_1, data_train_lvl_2, N, add_to_lvl_2):\n",
    "    recommender = MainRecommender(data_train_lvl_1)\n",
    "\n",
    "    users_lvl_1 = data_train_lvl_1['user_id'].unique()\n",
    "    users_lvl_2 = data_train_lvl_2['user_id'].unique().tolist()\n",
    "    if add_to_lvl_2:\n",
    "        users_lvl_2 += add_to_lvl_2\n",
    "\n",
    "    current_users = list(set(users_lvl_2) & set(users_lvl_1))    \n",
    "    new_users = list(set(users_lvl_2) - set(users_lvl_1))\n",
    "\n",
    "    df = pd.DataFrame(users_lvl_2, columns=['user_id'])\n",
    "    cond_1 = df['user_id'].isin(current_users)\n",
    "    df.loc[cond_1, 'candidates'] = df.loc[cond_1, 'user_id'].apply(\n",
    "        lambda x: recommender.get_own_recommendations(x, N))\n",
    "\n",
    "    if new_users:\n",
    "        cond_2 = df['user_id'].isin(new_users)\n",
    "        df.loc[cond_2, 'candidates'] = df.loc[cond_2, 'user_id'].apply(\n",
    "            lambda x: recommender.overall_top_purchases[:N])\n",
    "        \n",
    "    return df\n",
    "\n",
    "\n",
    "\n",
    "def get_targets_lvl_2(data_train_lvl_1, data_train_lvl_2, user_item_features, N, add_to_lvl_2=None):\n",
    "    \n",
    "    users_lvl_2 = get_candidates(data_train_lvl_1, data_train_lvl_2, N, add_to_lvl_2)\n",
    "    \n",
    "    df = pd.DataFrame({'user_id': users_lvl_2['user_id'].values.repeat(N),\n",
    "                       'item_id': np.concatenate(users_lvl_2['candidates'].values)})\n",
    "\n",
    "    targets_lvl_2 = data_train_lvl_2[['user_id', 'item_id']].copy()\n",
    "    targets_lvl_2['target'] = 1  # тут только покупки \n",
    "\n",
    "    targets_lvl_2 = df.merge(targets_lvl_2, on=['user_id', 'item_id'], how='left')\n",
    "    targets_lvl_2['target'].fillna(0, inplace= True)\n",
    "    \n",
    "    targets_lvl_2 = targets_lvl_2.merge(user_features, on='user_id', how='left')\n",
    "    targets_lvl_2 = targets_lvl_2.merge(item_features, on='item_id', how='left')\n",
    "    targets_lvl_2 = targets_lvl_2.merge(user_item_features, on=['user_id', 'item_id'], how='left')\n",
    "    \n",
    "    return targets_lvl_2"
   ]
  },
  {
   "cell_type": "code",
   "execution_count": 158,
   "id": "679f4b40",
   "metadata": {},
   "outputs": [
    {
     "data": {
      "application/vnd.jupyter.widget-view+json": {
       "model_id": "dc96b0c385aa412c8117909434a8cf62",
       "version_major": 2,
       "version_minor": 0
      },
      "text/plain": [
       "  0%|          | 0/15 [00:00<?, ?it/s]"
      ]
     },
     "metadata": {},
     "output_type": "display_data"
    },
    {
     "data": {
      "application/vnd.jupyter.widget-view+json": {
       "model_id": "a0b4f4ec687044a48a166a2615ad97c1",
       "version_major": 2,
       "version_minor": 0
      },
      "text/plain": [
       "  0%|          | 0/5001 [00:00<?, ?it/s]"
      ]
     },
     "metadata": {},
     "output_type": "display_data"
    },
    {
     "name": "stdout",
     "output_type": "stream",
     "text": [
      "число пользователей: 2280\n",
      "среднее число покупок: 0.0348\n"
     ]
    },
    {
     "data": {
      "text/html": [
       "<div>\n",
       "<style scoped>\n",
       "    .dataframe tbody tr th:only-of-type {\n",
       "        vertical-align: middle;\n",
       "    }\n",
       "\n",
       "    .dataframe tbody tr th {\n",
       "        vertical-align: top;\n",
       "    }\n",
       "\n",
       "    .dataframe thead th {\n",
       "        text-align: right;\n",
       "    }\n",
       "</style>\n",
       "<table border=\"1\" class=\"dataframe\">\n",
       "  <thead>\n",
       "    <tr style=\"text-align: right;\">\n",
       "      <th></th>\n",
       "      <th>user_id</th>\n",
       "      <th>item_id</th>\n",
       "      <th>target</th>\n",
       "      <th>age_desc</th>\n",
       "      <th>marital_status_code</th>\n",
       "      <th>income_desc</th>\n",
       "      <th>homeowner_desc</th>\n",
       "      <th>hh_comp_desc</th>\n",
       "      <th>household_size_desc</th>\n",
       "      <th>kid_category_desc</th>\n",
       "      <th>...</th>\n",
       "      <th>user_factor_91</th>\n",
       "      <th>user_factor_92</th>\n",
       "      <th>user_factor_93</th>\n",
       "      <th>user_factor_94</th>\n",
       "      <th>user_factor_95</th>\n",
       "      <th>user_factor_96</th>\n",
       "      <th>user_factor_97</th>\n",
       "      <th>user_factor_98</th>\n",
       "      <th>user_factor_99</th>\n",
       "      <th>user_factor_100</th>\n",
       "    </tr>\n",
       "  </thead>\n",
       "  <tbody>\n",
       "    <tr>\n",
       "      <th>0</th>\n",
       "      <td>2070</td>\n",
       "      <td>1105426</td>\n",
       "      <td>0.0</td>\n",
       "      <td>50.0</td>\n",
       "      <td>0.0</td>\n",
       "      <td>62.0</td>\n",
       "      <td>0.0</td>\n",
       "      <td>0.0</td>\n",
       "      <td>1.0</td>\n",
       "      <td>0.0</td>\n",
       "      <td>...</td>\n",
       "      <td>-2.725054</td>\n",
       "      <td>-5.444489</td>\n",
       "      <td>-2.658066</td>\n",
       "      <td>-1.371816</td>\n",
       "      <td>3.373707</td>\n",
       "      <td>-0.287677</td>\n",
       "      <td>-4.979294</td>\n",
       "      <td>1.484092</td>\n",
       "      <td>3.065457</td>\n",
       "      <td>1.876819</td>\n",
       "    </tr>\n",
       "    <tr>\n",
       "      <th>1</th>\n",
       "      <td>2070</td>\n",
       "      <td>950202</td>\n",
       "      <td>0.0</td>\n",
       "      <td>50.0</td>\n",
       "      <td>0.0</td>\n",
       "      <td>62.0</td>\n",
       "      <td>0.0</td>\n",
       "      <td>0.0</td>\n",
       "      <td>1.0</td>\n",
       "      <td>0.0</td>\n",
       "      <td>...</td>\n",
       "      <td>-2.725054</td>\n",
       "      <td>-5.444489</td>\n",
       "      <td>-2.658066</td>\n",
       "      <td>-1.371816</td>\n",
       "      <td>3.373707</td>\n",
       "      <td>-0.287677</td>\n",
       "      <td>-4.979294</td>\n",
       "      <td>1.484092</td>\n",
       "      <td>3.065457</td>\n",
       "      <td>1.876819</td>\n",
       "    </tr>\n",
       "  </tbody>\n",
       "</table>\n",
       "<p>2 rows × 232 columns</p>\n",
       "</div>"
      ],
      "text/plain": [
       "   user_id  item_id  target  age_desc  marital_status_code  income_desc  \\\n",
       "0     2070  1105426     0.0      50.0                  0.0         62.0   \n",
       "1     2070   950202     0.0      50.0                  0.0         62.0   \n",
       "\n",
       "   homeowner_desc  hh_comp_desc  household_size_desc  kid_category_desc  ...  \\\n",
       "0             0.0           0.0                  1.0                0.0  ...   \n",
       "1             0.0           0.0                  1.0                0.0  ...   \n",
       "\n",
       "   user_factor_91 user_factor_92  user_factor_93 user_factor_94  \\\n",
       "0       -2.725054      -5.444489       -2.658066      -1.371816   \n",
       "1       -2.725054      -5.444489       -2.658066      -1.371816   \n",
       "\n",
       "  user_factor_95 user_factor_96  user_factor_97  user_factor_98  \\\n",
       "0       3.373707      -0.287677       -4.979294        1.484092   \n",
       "1       3.373707      -0.287677       -4.979294        1.484092   \n",
       "\n",
       "   user_factor_99  user_factor_100  \n",
       "0        3.065457         1.876819  \n",
       "1        3.065457         1.876819  \n",
       "\n",
       "[2 rows x 232 columns]"
      ]
     },
     "execution_count": 158,
     "metadata": {},
     "output_type": "execute_result"
    }
   ],
   "source": [
    "N = 500\n",
    "targets_lvl_2 = get_targets_lvl_2(data_train_lvl_1, data_train_lvl_2, user_item_features, N, add_to_lvl_2)\n",
    "\n",
    "print(f'число пользователей: {targets_lvl_2.user_id.nunique()}')\n",
    "print(f'среднее число покупок: {round(targets_lvl_2[\"target\"].mean(), 4)}')\n",
    "\n",
    "targets_lvl_2.head(2)"
   ]
  },
  {
   "cell_type": "code",
   "execution_count": 159,
   "id": "1664e58a",
   "metadata": {},
   "outputs": [],
   "source": [
    "# Модель второго уровня\n",
    "from lightgbm import LGBMClassifier\n",
    "import lightgbm as lgb\n",
    "from catboost import CatBoostClassifier, Pool\n",
    "from sklearn.model_selection import train_test_split\n",
    "from sklearn.metrics import roc_auc_score\n"
   ]
  },
  {
   "cell_type": "code",
   "execution_count": 160,
   "id": "20d71aa3",
   "metadata": {},
   "outputs": [],
   "source": [
    "obj_col = targets_lvl_2.describe(include=[object]).columns.tolist()"
   ]
  },
  {
   "cell_type": "code",
   "execution_count": 161,
   "id": "31effa66",
   "metadata": {},
   "outputs": [
    {
     "data": {
      "text/plain": [
       "['department', 'commodity_desc', 'sub_commodity_desc', 'curr_size_of_product']"
      ]
     },
     "execution_count": 161,
     "metadata": {},
     "output_type": "execute_result"
    }
   ],
   "source": [
    "obj_col"
   ]
  },
  {
   "cell_type": "code",
   "execution_count": 162,
   "id": "3c83ad54",
   "metadata": {},
   "outputs": [],
   "source": [
    "targets_lvl_2[obj_col] = targets_lvl_2[obj_col].astype('category')"
   ]
  },
  {
   "cell_type": "code",
   "execution_count": 163,
   "id": "c3340008",
   "metadata": {},
   "outputs": [
    {
     "data": {
      "text/plain": [
       "['user_id',\n",
       " 'item_id',\n",
       " 'target',\n",
       " 'age_desc',\n",
       " 'marital_status_code',\n",
       " 'income_desc',\n",
       " 'homeowner_desc',\n",
       " 'hh_comp_desc',\n",
       " 'household_size_desc',\n",
       " 'kid_category_desc',\n",
       " 'manufacturer',\n",
       " 'brand',\n",
       " 'manufacturer_freq',\n",
       " 'department_freq',\n",
       " 'commodity_desc_freq',\n",
       " 'sub_commodity_desc_freq',\n",
       " 'curr_size_of_product_freq',\n",
       " 'commodity_category',\n",
       " 'median_sales_hour',\n",
       " 'median_weekday',\n",
       " 'mean_visits_interval',\n",
       " 'mean_check',\n",
       " 'n_stores',\n",
       " 'n_items',\n",
       " 'n_transactions',\n",
       " 'mean_n_items_basket',\n",
       " 'max_n_items_basket',\n",
       " 'std_n_items_basket',\n",
       " 'factor_1',\n",
       " 'factor_2',\n",
       " 'factor_3',\n",
       " 'factor_4',\n",
       " 'factor_5',\n",
       " 'factor_6',\n",
       " 'factor_7',\n",
       " 'factor_8',\n",
       " 'factor_9',\n",
       " 'factor_10',\n",
       " 'factor_11',\n",
       " 'factor_12',\n",
       " 'factor_13',\n",
       " 'factor_14',\n",
       " 'factor_15',\n",
       " 'factor_16',\n",
       " 'factor_17',\n",
       " 'factor_18',\n",
       " 'factor_19',\n",
       " 'factor_20',\n",
       " 'factor_21',\n",
       " 'factor_22',\n",
       " 'factor_23',\n",
       " 'factor_24',\n",
       " 'factor_25',\n",
       " 'factor_26',\n",
       " 'factor_27',\n",
       " 'factor_28',\n",
       " 'factor_29',\n",
       " 'factor_30',\n",
       " 'factor_31',\n",
       " 'factor_32',\n",
       " 'factor_33',\n",
       " 'factor_34',\n",
       " 'factor_35',\n",
       " 'factor_36',\n",
       " 'factor_37',\n",
       " 'factor_38',\n",
       " 'factor_39',\n",
       " 'factor_40',\n",
       " 'factor_41',\n",
       " 'factor_42',\n",
       " 'factor_43',\n",
       " 'factor_44',\n",
       " 'factor_45',\n",
       " 'factor_46',\n",
       " 'factor_47',\n",
       " 'factor_48',\n",
       " 'factor_49',\n",
       " 'factor_50',\n",
       " 'factor_51',\n",
       " 'factor_52',\n",
       " 'factor_53',\n",
       " 'factor_54',\n",
       " 'factor_55',\n",
       " 'factor_56',\n",
       " 'factor_57',\n",
       " 'factor_58',\n",
       " 'factor_59',\n",
       " 'factor_60',\n",
       " 'factor_61',\n",
       " 'factor_62',\n",
       " 'factor_63',\n",
       " 'factor_64',\n",
       " 'factor_65',\n",
       " 'factor_66',\n",
       " 'factor_67',\n",
       " 'factor_68',\n",
       " 'factor_69',\n",
       " 'factor_70',\n",
       " 'factor_71',\n",
       " 'factor_72',\n",
       " 'factor_73',\n",
       " 'factor_74',\n",
       " 'factor_75',\n",
       " 'factor_76',\n",
       " 'factor_77',\n",
       " 'factor_78',\n",
       " 'factor_79',\n",
       " 'factor_80',\n",
       " 'factor_81',\n",
       " 'factor_82',\n",
       " 'factor_83',\n",
       " 'factor_84',\n",
       " 'factor_85',\n",
       " 'factor_86',\n",
       " 'factor_87',\n",
       " 'factor_88',\n",
       " 'factor_89',\n",
       " 'factor_90',\n",
       " 'factor_91',\n",
       " 'factor_92',\n",
       " 'factor_93',\n",
       " 'factor_94',\n",
       " 'factor_95',\n",
       " 'factor_96',\n",
       " 'factor_97',\n",
       " 'factor_98',\n",
       " 'factor_99',\n",
       " 'factor_100',\n",
       " 'user_factor_1',\n",
       " 'user_factor_2',\n",
       " 'user_factor_3',\n",
       " 'user_factor_4',\n",
       " 'user_factor_5',\n",
       " 'user_factor_6',\n",
       " 'user_factor_7',\n",
       " 'user_factor_8',\n",
       " 'user_factor_9',\n",
       " 'user_factor_10',\n",
       " 'user_factor_11',\n",
       " 'user_factor_12',\n",
       " 'user_factor_13',\n",
       " 'user_factor_14',\n",
       " 'user_factor_15',\n",
       " 'user_factor_16',\n",
       " 'user_factor_17',\n",
       " 'user_factor_18',\n",
       " 'user_factor_19',\n",
       " 'user_factor_20',\n",
       " 'user_factor_21',\n",
       " 'user_factor_22',\n",
       " 'user_factor_23',\n",
       " 'user_factor_24',\n",
       " 'user_factor_25',\n",
       " 'user_factor_26',\n",
       " 'user_factor_27',\n",
       " 'user_factor_28',\n",
       " 'user_factor_29',\n",
       " 'user_factor_30',\n",
       " 'user_factor_31',\n",
       " 'user_factor_32',\n",
       " 'user_factor_33',\n",
       " 'user_factor_34',\n",
       " 'user_factor_35',\n",
       " 'user_factor_36',\n",
       " 'user_factor_37',\n",
       " 'user_factor_38',\n",
       " 'user_factor_39',\n",
       " 'user_factor_40',\n",
       " 'user_factor_41',\n",
       " 'user_factor_42',\n",
       " 'user_factor_43',\n",
       " 'user_factor_44',\n",
       " 'user_factor_45',\n",
       " 'user_factor_46',\n",
       " 'user_factor_47',\n",
       " 'user_factor_48',\n",
       " 'user_factor_49',\n",
       " 'user_factor_50',\n",
       " 'user_factor_51',\n",
       " 'user_factor_52',\n",
       " 'user_factor_53',\n",
       " 'user_factor_54',\n",
       " 'user_factor_55',\n",
       " 'user_factor_56',\n",
       " 'user_factor_57',\n",
       " 'user_factor_58',\n",
       " 'user_factor_59',\n",
       " 'user_factor_60',\n",
       " 'user_factor_61',\n",
       " 'user_factor_62',\n",
       " 'user_factor_63',\n",
       " 'user_factor_64',\n",
       " 'user_factor_65',\n",
       " 'user_factor_66',\n",
       " 'user_factor_67',\n",
       " 'user_factor_68',\n",
       " 'user_factor_69',\n",
       " 'user_factor_70',\n",
       " 'user_factor_71',\n",
       " 'user_factor_72',\n",
       " 'user_factor_73',\n",
       " 'user_factor_74',\n",
       " 'user_factor_75',\n",
       " 'user_factor_76',\n",
       " 'user_factor_77',\n",
       " 'user_factor_78',\n",
       " 'user_factor_79',\n",
       " 'user_factor_80',\n",
       " 'user_factor_81',\n",
       " 'user_factor_82',\n",
       " 'user_factor_83',\n",
       " 'user_factor_84',\n",
       " 'user_factor_85',\n",
       " 'user_factor_86',\n",
       " 'user_factor_87',\n",
       " 'user_factor_88',\n",
       " 'user_factor_89',\n",
       " 'user_factor_90',\n",
       " 'user_factor_91',\n",
       " 'user_factor_92',\n",
       " 'user_factor_93',\n",
       " 'user_factor_94',\n",
       " 'user_factor_95',\n",
       " 'user_factor_96',\n",
       " 'user_factor_97',\n",
       " 'user_factor_98',\n",
       " 'user_factor_99',\n",
       " 'user_factor_100']"
      ]
     },
     "execution_count": 163,
     "metadata": {},
     "output_type": "execute_result"
    }
   ],
   "source": [
    "SELECTED_FEATURES_NAMES = [i for i in targets_lvl_2.columns if i not in obj_col]\n",
    "SELECTED_FEATURES_NAMES"
   ]
  },
  {
   "cell_type": "code",
   "execution_count": 164,
   "id": "88fb79cf",
   "metadata": {},
   "outputs": [],
   "source": [
    "X_train = targets_lvl_2.drop('target', axis=1)\n",
    "y_train = targets_lvl_2[['target']]"
   ]
  },
  {
   "cell_type": "code",
   "execution_count": 165,
   "id": "e3f01e3c",
   "metadata": {},
   "outputs": [],
   "source": [
    "cat_feats = obj_col"
   ]
  },
  {
   "cell_type": "code",
   "execution_count": 166,
   "id": "ea2eb50a",
   "metadata": {},
   "outputs": [
    {
     "name": "stderr",
     "output_type": "stream",
     "text": [
      "C:\\Users\\edive\\anaconda3\\lib\\site-packages\\sklearn\\preprocessing\\_label.py:235: DataConversionWarning: A column-vector y was passed when a 1d array was expected. Please change the shape of y to (n_samples, ), for example using ravel().\n",
      "  y = column_or_1d(y, warn=True)\n",
      "C:\\Users\\edive\\anaconda3\\lib\\site-packages\\sklearn\\preprocessing\\_label.py:268: DataConversionWarning: A column-vector y was passed when a 1d array was expected. Please change the shape of y to (n_samples, ), for example using ravel().\n",
      "  y = column_or_1d(y, warn=True)\n",
      "C:\\Users\\edive\\anaconda3\\lib\\site-packages\\lightgbm\\basic.py:1513: UserWarning: categorical_column in param dict is overridden.\n",
      "  _log_warning(f'{cat_alias} in param dict is overridden.')\n"
     ]
    }
   ],
   "source": [
    "lgb = LGBMClassifier(objective='binary', max_depth=7, categorical_column=cat_feats)\n",
    "lgb.fit(X_train, y_train)\n",
    "\n",
    "train_preds = lgb.predict(X_train)"
   ]
  },
  {
   "cell_type": "code",
   "execution_count": 167,
   "id": "96cd9349",
   "metadata": {},
   "outputs": [],
   "source": [
    "predict_proba = lgb.predict_proba(X_train)"
   ]
  },
  {
   "cell_type": "code",
   "execution_count": 168,
   "id": "90dabb0b",
   "metadata": {},
   "outputs": [
    {
     "data": {
      "text/plain": [
       "array([[0.94496517, 0.05503483],\n",
       "       [0.93362198, 0.06637802],\n",
       "       [0.97512943, 0.02487057],\n",
       "       ...,\n",
       "       [0.9890554 , 0.0109446 ],\n",
       "       [0.99454613, 0.00545387],\n",
       "       [0.9974386 , 0.0025614 ]])"
      ]
     },
     "execution_count": 168,
     "metadata": {},
     "output_type": "execute_result"
    }
   ],
   "source": [
    "predict_proba"
   ]
  },
  {
   "cell_type": "code",
   "execution_count": 169,
   "id": "36e7dc4f",
   "metadata": {},
   "outputs": [
    {
     "data": {
      "text/plain": [
       "0.9062434684185643"
      ]
     },
     "execution_count": 169,
     "metadata": {},
     "output_type": "execute_result"
    }
   ],
   "source": [
    "roc_auc_score(y_train, predict_proba[:, 1])"
   ]
  },
  {
   "cell_type": "code",
   "execution_count": 170,
   "id": "16e22799",
   "metadata": {},
   "outputs": [],
   "source": [
    "targets_lvl_2['pred_proba'] = lgb.predict_proba(X_train)[:, 1]"
   ]
  },
  {
   "cell_type": "code",
   "execution_count": 171,
   "id": "61f0981b",
   "metadata": {},
   "outputs": [
    {
     "data": {
      "text/html": [
       "<div>\n",
       "<style scoped>\n",
       "    .dataframe tbody tr th:only-of-type {\n",
       "        vertical-align: middle;\n",
       "    }\n",
       "\n",
       "    .dataframe tbody tr th {\n",
       "        vertical-align: top;\n",
       "    }\n",
       "\n",
       "    .dataframe thead th {\n",
       "        text-align: right;\n",
       "    }\n",
       "</style>\n",
       "<table border=\"1\" class=\"dataframe\">\n",
       "  <thead>\n",
       "    <tr style=\"text-align: right;\">\n",
       "      <th></th>\n",
       "      <th>user_id</th>\n",
       "      <th>item_id</th>\n",
       "      <th>target</th>\n",
       "      <th>age_desc</th>\n",
       "      <th>marital_status_code</th>\n",
       "      <th>income_desc</th>\n",
       "      <th>homeowner_desc</th>\n",
       "      <th>hh_comp_desc</th>\n",
       "      <th>household_size_desc</th>\n",
       "      <th>kid_category_desc</th>\n",
       "      <th>...</th>\n",
       "      <th>user_factor_92</th>\n",
       "      <th>user_factor_93</th>\n",
       "      <th>user_factor_94</th>\n",
       "      <th>user_factor_95</th>\n",
       "      <th>user_factor_96</th>\n",
       "      <th>user_factor_97</th>\n",
       "      <th>user_factor_98</th>\n",
       "      <th>user_factor_99</th>\n",
       "      <th>user_factor_100</th>\n",
       "      <th>pred_proba</th>\n",
       "    </tr>\n",
       "  </thead>\n",
       "  <tbody>\n",
       "    <tr>\n",
       "      <th>0</th>\n",
       "      <td>2070</td>\n",
       "      <td>1105426</td>\n",
       "      <td>0.0</td>\n",
       "      <td>50.0</td>\n",
       "      <td>0.0</td>\n",
       "      <td>62.0</td>\n",
       "      <td>0.0</td>\n",
       "      <td>0.0</td>\n",
       "      <td>1.0</td>\n",
       "      <td>0.0</td>\n",
       "      <td>...</td>\n",
       "      <td>-5.444489</td>\n",
       "      <td>-2.658066</td>\n",
       "      <td>-1.371816</td>\n",
       "      <td>3.373707</td>\n",
       "      <td>-0.287677</td>\n",
       "      <td>-4.979294</td>\n",
       "      <td>1.484092</td>\n",
       "      <td>3.065457</td>\n",
       "      <td>1.876819</td>\n",
       "      <td>0.055035</td>\n",
       "    </tr>\n",
       "    <tr>\n",
       "      <th>1</th>\n",
       "      <td>2070</td>\n",
       "      <td>950202</td>\n",
       "      <td>0.0</td>\n",
       "      <td>50.0</td>\n",
       "      <td>0.0</td>\n",
       "      <td>62.0</td>\n",
       "      <td>0.0</td>\n",
       "      <td>0.0</td>\n",
       "      <td>1.0</td>\n",
       "      <td>0.0</td>\n",
       "      <td>...</td>\n",
       "      <td>-5.444489</td>\n",
       "      <td>-2.658066</td>\n",
       "      <td>-1.371816</td>\n",
       "      <td>3.373707</td>\n",
       "      <td>-0.287677</td>\n",
       "      <td>-4.979294</td>\n",
       "      <td>1.484092</td>\n",
       "      <td>3.065457</td>\n",
       "      <td>1.876819</td>\n",
       "      <td>0.066378</td>\n",
       "    </tr>\n",
       "    <tr>\n",
       "      <th>2</th>\n",
       "      <td>2070</td>\n",
       "      <td>944588</td>\n",
       "      <td>0.0</td>\n",
       "      <td>50.0</td>\n",
       "      <td>0.0</td>\n",
       "      <td>62.0</td>\n",
       "      <td>0.0</td>\n",
       "      <td>0.0</td>\n",
       "      <td>1.0</td>\n",
       "      <td>0.0</td>\n",
       "      <td>...</td>\n",
       "      <td>-5.444489</td>\n",
       "      <td>-2.658066</td>\n",
       "      <td>-1.371816</td>\n",
       "      <td>3.373707</td>\n",
       "      <td>-0.287677</td>\n",
       "      <td>-4.979294</td>\n",
       "      <td>1.484092</td>\n",
       "      <td>3.065457</td>\n",
       "      <td>1.876819</td>\n",
       "      <td>0.024871</td>\n",
       "    </tr>\n",
       "    <tr>\n",
       "      <th>3</th>\n",
       "      <td>2070</td>\n",
       "      <td>1082955</td>\n",
       "      <td>1.0</td>\n",
       "      <td>50.0</td>\n",
       "      <td>0.0</td>\n",
       "      <td>62.0</td>\n",
       "      <td>0.0</td>\n",
       "      <td>0.0</td>\n",
       "      <td>1.0</td>\n",
       "      <td>0.0</td>\n",
       "      <td>...</td>\n",
       "      <td>-5.444489</td>\n",
       "      <td>-2.658066</td>\n",
       "      <td>-1.371816</td>\n",
       "      <td>3.373707</td>\n",
       "      <td>-0.287677</td>\n",
       "      <td>-4.979294</td>\n",
       "      <td>1.484092</td>\n",
       "      <td>3.065457</td>\n",
       "      <td>1.876819</td>\n",
       "      <td>0.098283</td>\n",
       "    </tr>\n",
       "    <tr>\n",
       "      <th>4</th>\n",
       "      <td>2070</td>\n",
       "      <td>10198378</td>\n",
       "      <td>0.0</td>\n",
       "      <td>50.0</td>\n",
       "      <td>0.0</td>\n",
       "      <td>62.0</td>\n",
       "      <td>0.0</td>\n",
       "      <td>0.0</td>\n",
       "      <td>1.0</td>\n",
       "      <td>0.0</td>\n",
       "      <td>...</td>\n",
       "      <td>-5.444489</td>\n",
       "      <td>-2.658066</td>\n",
       "      <td>-1.371816</td>\n",
       "      <td>3.373707</td>\n",
       "      <td>-0.287677</td>\n",
       "      <td>-4.979294</td>\n",
       "      <td>1.484092</td>\n",
       "      <td>3.065457</td>\n",
       "      <td>1.876819</td>\n",
       "      <td>0.183534</td>\n",
       "    </tr>\n",
       "  </tbody>\n",
       "</table>\n",
       "<p>5 rows × 233 columns</p>\n",
       "</div>"
      ],
      "text/plain": [
       "   user_id   item_id  target  age_desc  marital_status_code  income_desc  \\\n",
       "0     2070   1105426     0.0      50.0                  0.0         62.0   \n",
       "1     2070    950202     0.0      50.0                  0.0         62.0   \n",
       "2     2070    944588     0.0      50.0                  0.0         62.0   \n",
       "3     2070   1082955     1.0      50.0                  0.0         62.0   \n",
       "4     2070  10198378     0.0      50.0                  0.0         62.0   \n",
       "\n",
       "   homeowner_desc  hh_comp_desc  household_size_desc  kid_category_desc  ...  \\\n",
       "0             0.0           0.0                  1.0                0.0  ...   \n",
       "1             0.0           0.0                  1.0                0.0  ...   \n",
       "2             0.0           0.0                  1.0                0.0  ...   \n",
       "3             0.0           0.0                  1.0                0.0  ...   \n",
       "4             0.0           0.0                  1.0                0.0  ...   \n",
       "\n",
       "   user_factor_92 user_factor_93  user_factor_94 user_factor_95  \\\n",
       "0       -5.444489      -2.658066       -1.371816       3.373707   \n",
       "1       -5.444489      -2.658066       -1.371816       3.373707   \n",
       "2       -5.444489      -2.658066       -1.371816       3.373707   \n",
       "3       -5.444489      -2.658066       -1.371816       3.373707   \n",
       "4       -5.444489      -2.658066       -1.371816       3.373707   \n",
       "\n",
       "  user_factor_96 user_factor_97  user_factor_98  user_factor_99  \\\n",
       "0      -0.287677      -4.979294        1.484092        3.065457   \n",
       "1      -0.287677      -4.979294        1.484092        3.065457   \n",
       "2      -0.287677      -4.979294        1.484092        3.065457   \n",
       "3      -0.287677      -4.979294        1.484092        3.065457   \n",
       "4      -0.287677      -4.979294        1.484092        3.065457   \n",
       "\n",
       "   user_factor_100  pred_proba  \n",
       "0         1.876819    0.055035  \n",
       "1         1.876819    0.066378  \n",
       "2         1.876819    0.024871  \n",
       "3         1.876819    0.098283  \n",
       "4         1.876819    0.183534  \n",
       "\n",
       "[5 rows x 233 columns]"
      ]
     },
     "execution_count": 171,
     "metadata": {},
     "output_type": "execute_result"
    }
   ],
   "source": [
    "targets_lvl_2.head()"
   ]
  },
  {
   "cell_type": "code",
   "execution_count": 172,
   "id": "d125fc4b",
   "metadata": {},
   "outputs": [],
   "source": [
    "def get_final_preds(data_frame, user_id, number_of_preds):\n",
    "    preds = data_frame[data_frame['user_id'] == user_id].sort_values('pred_proba', ascending=False)['item_id'].tolist()\n",
    "    result = []\n",
    "    i = 0\n",
    "    while len(result) < number_of_preds:\n",
    "        if preds[i] not in result:\n",
    "            result.append(preds[i])\n",
    "        i += 1\n",
    "    return result"
   ]
  },
  {
   "cell_type": "code",
   "execution_count": 173,
   "id": "ccdc3f09",
   "metadata": {},
   "outputs": [
    {
     "data": {
      "text/plain": [
       "[1106523, 1126899, 899624, 916122, 983584]"
      ]
     },
     "execution_count": 173,
     "metadata": {},
     "output_type": "execute_result"
    }
   ],
   "source": [
    "get_final_preds(targets_lvl_2, 2070, 5)"
   ]
  },
  {
   "cell_type": "code",
   "execution_count": 174,
   "id": "1dcdc888",
   "metadata": {},
   "outputs": [
    {
     "data": {
      "text/html": [
       "<div>\n",
       "<style scoped>\n",
       "    .dataframe tbody tr th:only-of-type {\n",
       "        vertical-align: middle;\n",
       "    }\n",
       "\n",
       "    .dataframe tbody tr th {\n",
       "        vertical-align: top;\n",
       "    }\n",
       "\n",
       "    .dataframe thead th {\n",
       "        text-align: right;\n",
       "    }\n",
       "</style>\n",
       "<table border=\"1\" class=\"dataframe\">\n",
       "  <thead>\n",
       "    <tr style=\"text-align: right;\">\n",
       "      <th></th>\n",
       "      <th>user_id</th>\n",
       "      <th>actual</th>\n",
       "    </tr>\n",
       "  </thead>\n",
       "  <tbody>\n",
       "    <tr>\n",
       "      <th>0</th>\n",
       "      <td>1</td>\n",
       "      <td>[821867, 834484, 856942, 865456, 889248, 90795...</td>\n",
       "    </tr>\n",
       "    <tr>\n",
       "      <th>1</th>\n",
       "      <td>3</td>\n",
       "      <td>[835476, 851057, 872021, 878302, 879948, 90963...</td>\n",
       "    </tr>\n",
       "  </tbody>\n",
       "</table>\n",
       "</div>"
      ],
      "text/plain": [
       "   user_id                                             actual\n",
       "0        1  [821867, 834484, 856942, 865456, 889248, 90795...\n",
       "1        3  [835476, 851057, 872021, 878302, 879948, 90963..."
      ]
     },
     "execution_count": 174,
     "metadata": {},
     "output_type": "execute_result"
    }
   ],
   "source": [
    "result = data_val_lvl_2.groupby('user_id')['item_id'].unique().reset_index()\n",
    "result.columns=['user_id', 'actual']\n",
    "result.head(2)"
   ]
  },
  {
   "cell_type": "code",
   "execution_count": 175,
   "id": "bb0c928b",
   "metadata": {},
   "outputs": [],
   "source": [
    "result['preds'] = result['user_id'].apply(lambda x: get_final_preds(targets_lvl_2, x, 100))"
   ]
  },
  {
   "cell_type": "code",
   "execution_count": 176,
   "id": "358f07ba",
   "metadata": {},
   "outputs": [
    {
     "data": {
      "text/html": [
       "<div>\n",
       "<style scoped>\n",
       "    .dataframe tbody tr th:only-of-type {\n",
       "        vertical-align: middle;\n",
       "    }\n",
       "\n",
       "    .dataframe tbody tr th {\n",
       "        vertical-align: top;\n",
       "    }\n",
       "\n",
       "    .dataframe thead th {\n",
       "        text-align: right;\n",
       "    }\n",
       "</style>\n",
       "<table border=\"1\" class=\"dataframe\">\n",
       "  <thead>\n",
       "    <tr style=\"text-align: right;\">\n",
       "      <th></th>\n",
       "      <th>user_id</th>\n",
       "      <th>actual</th>\n",
       "      <th>preds</th>\n",
       "    </tr>\n",
       "  </thead>\n",
       "  <tbody>\n",
       "    <tr>\n",
       "      <th>0</th>\n",
       "      <td>1</td>\n",
       "      <td>[821867, 834484, 856942, 865456, 889248, 90795...</td>\n",
       "      <td>[8293439, 940947, 1004906, 1082212, 9297615, 5...</td>\n",
       "    </tr>\n",
       "    <tr>\n",
       "      <th>1</th>\n",
       "      <td>3</td>\n",
       "      <td>[835476, 851057, 872021, 878302, 879948, 90963...</td>\n",
       "      <td>[1106523, 983584, 1101010, 899624, 1044078, 55...</td>\n",
       "    </tr>\n",
       "  </tbody>\n",
       "</table>\n",
       "</div>"
      ],
      "text/plain": [
       "   user_id                                             actual  \\\n",
       "0        1  [821867, 834484, 856942, 865456, 889248, 90795...   \n",
       "1        3  [835476, 851057, 872021, 878302, 879948, 90963...   \n",
       "\n",
       "                                               preds  \n",
       "0  [8293439, 940947, 1004906, 1082212, 9297615, 5...  \n",
       "1  [1106523, 983584, 1101010, 899624, 1044078, 55...  "
      ]
     },
     "execution_count": 176,
     "metadata": {},
     "output_type": "execute_result"
    }
   ],
   "source": [
    "result.head(2)"
   ]
  },
  {
   "cell_type": "code",
   "execution_count": 177,
   "id": "02822def",
   "metadata": {},
   "outputs": [
    {
     "data": {
      "text/plain": [
       "0.1963761018609184"
      ]
     },
     "execution_count": 177,
     "metadata": {},
     "output_type": "execute_result"
    }
   ],
   "source": [
    "result.apply(lambda x: precision_at_k(x['preds'], x['actual'], 5), axis=1).mean()"
   ]
  },
  {
   "cell_type": "markdown",
   "id": "a43d3056",
   "metadata": {},
   "source": [
    "# Теперь прогнозы на всей выборке"
   ]
  },
  {
   "cell_type": "code",
   "execution_count": 178,
   "id": "ce5d2446",
   "metadata": {},
   "outputs": [],
   "source": [
    "test = pd.read_csv('./retail_test.csv')"
   ]
  },
  {
   "cell_type": "code",
   "execution_count": 179,
   "id": "14575ba4",
   "metadata": {},
   "outputs": [],
   "source": [
    "validation_weeks = 1\n",
    "data_train = data[data['week_no'] < data['week_no'].max() - validation_weeks]\n",
    "data_valid = data[data['week_no'] >= data['week_no'].max() - validation_weeks]"
   ]
  },
  {
   "cell_type": "code",
   "execution_count": 180,
   "id": "f3f9fe67",
   "metadata": {},
   "outputs": [
    {
     "data": {
      "text/plain": [
       "([], [2325], 354)"
      ]
     },
     "execution_count": 180,
     "metadata": {},
     "output_type": "execute_result"
    }
   ],
   "source": [
    "users_lvl_1 = data_train.user_id.unique()\n",
    "users_lvl_2 = data_valid.user_id.unique()\n",
    "users_lvl_3 = test.user_id.unique()\n",
    "\n",
    "new_users_lvl_2 = list(set(users_lvl_2) - set(users_lvl_1))\n",
    "new_users_lvl_3 = list(set(users_lvl_3) - (set(users_lvl_1) | set(users_lvl_2)))\n",
    "\n",
    "add_to_lvl_2 = list(set(users_lvl_3) - (set(users_lvl_2)))\n",
    "\n",
    "new_users_lvl_2, new_users_lvl_3, len(add_to_lvl_2)"
   ]
  },
  {
   "cell_type": "code",
   "execution_count": 181,
   "id": "e291852b",
   "metadata": {},
   "outputs": [
    {
     "name": "stdout",
     "output_type": "stream",
     "text": [
      "Decreased # items from 89051 to 5001\n"
     ]
    }
   ],
   "source": [
    "n_items_before = data['item_id'].nunique()\n",
    "data_train = prefilter_items(data_train, item_features=item_features, take_n_popular=5000)\n",
    "n_items_after = data_train['item_id'].nunique()\n",
    "print('Decreased # items from {} to {}'.format(n_items_before, n_items_after))"
   ]
  },
  {
   "cell_type": "code",
   "execution_count": 182,
   "id": "b989d976",
   "metadata": {},
   "outputs": [
    {
     "data": {
      "application/vnd.jupyter.widget-view+json": {
       "model_id": "96f72499dd714f609dadac146e5104c9",
       "version_major": 2,
       "version_minor": 0
      },
      "text/plain": [
       "  0%|          | 0/15 [00:00<?, ?it/s]"
      ]
     },
     "metadata": {},
     "output_type": "display_data"
    },
    {
     "data": {
      "application/vnd.jupyter.widget-view+json": {
       "model_id": "5eba475ba2c44163b26d26db9cd67433",
       "version_major": 2,
       "version_minor": 0
      },
      "text/plain": [
       "  0%|          | 0/5001 [00:00<?, ?it/s]"
      ]
     },
     "metadata": {},
     "output_type": "display_data"
    },
    {
     "data": {
      "text/html": [
       "<div>\n",
       "<style scoped>\n",
       "    .dataframe tbody tr th:only-of-type {\n",
       "        vertical-align: middle;\n",
       "    }\n",
       "\n",
       "    .dataframe tbody tr th {\n",
       "        vertical-align: top;\n",
       "    }\n",
       "\n",
       "    .dataframe thead th {\n",
       "        text-align: right;\n",
       "    }\n",
       "</style>\n",
       "<table border=\"1\" class=\"dataframe\">\n",
       "  <thead>\n",
       "    <tr style=\"text-align: right;\">\n",
       "      <th></th>\n",
       "      <th>user_id</th>\n",
       "      <th>item_id</th>\n",
       "      <th>median_sales_hour</th>\n",
       "      <th>median_weekday</th>\n",
       "      <th>mean_visits_interval</th>\n",
       "      <th>mean_check</th>\n",
       "      <th>n_stores</th>\n",
       "      <th>n_items</th>\n",
       "      <th>n_transactions</th>\n",
       "      <th>mean_n_items_basket</th>\n",
       "      <th>...</th>\n",
       "      <th>user_factor_91</th>\n",
       "      <th>user_factor_92</th>\n",
       "      <th>user_factor_93</th>\n",
       "      <th>user_factor_94</th>\n",
       "      <th>user_factor_95</th>\n",
       "      <th>user_factor_96</th>\n",
       "      <th>user_factor_97</th>\n",
       "      <th>user_factor_98</th>\n",
       "      <th>user_factor_99</th>\n",
       "      <th>user_factor_100</th>\n",
       "    </tr>\n",
       "  </thead>\n",
       "  <tbody>\n",
       "    <tr>\n",
       "      <th>0</th>\n",
       "      <td>1</td>\n",
       "      <td>823721</td>\n",
       "      <td>13.0</td>\n",
       "      <td>4.0</td>\n",
       "      <td>NaN</td>\n",
       "      <td>28.414219</td>\n",
       "      <td>100</td>\n",
       "      <td>192</td>\n",
       "      <td>544</td>\n",
       "      <td>8.359375</td>\n",
       "      <td>...</td>\n",
       "      <td>-4.804476</td>\n",
       "      <td>9.204746</td>\n",
       "      <td>-7.786697</td>\n",
       "      <td>1.999745</td>\n",
       "      <td>-7.989666</td>\n",
       "      <td>4.259147</td>\n",
       "      <td>-9.492896</td>\n",
       "      <td>-2.602082</td>\n",
       "      <td>2.914038</td>\n",
       "      <td>6.820467</td>\n",
       "    </tr>\n",
       "    <tr>\n",
       "      <th>1</th>\n",
       "      <td>1</td>\n",
       "      <td>823990</td>\n",
       "      <td>15.0</td>\n",
       "      <td>6.0</td>\n",
       "      <td>NaN</td>\n",
       "      <td>28.414219</td>\n",
       "      <td>97</td>\n",
       "      <td>192</td>\n",
       "      <td>544</td>\n",
       "      <td>8.359375</td>\n",
       "      <td>...</td>\n",
       "      <td>-4.804476</td>\n",
       "      <td>9.204746</td>\n",
       "      <td>-7.786697</td>\n",
       "      <td>1.999745</td>\n",
       "      <td>-7.989666</td>\n",
       "      <td>4.259147</td>\n",
       "      <td>-9.492896</td>\n",
       "      <td>-2.602082</td>\n",
       "      <td>2.914038</td>\n",
       "      <td>6.820467</td>\n",
       "    </tr>\n",
       "  </tbody>\n",
       "</table>\n",
       "<p>2 rows × 212 columns</p>\n",
       "</div>"
      ],
      "text/plain": [
       "   user_id  item_id  median_sales_hour  median_weekday  mean_visits_interval  \\\n",
       "0        1   823721               13.0             4.0                   NaN   \n",
       "1        1   823990               15.0             6.0                   NaN   \n",
       "\n",
       "   mean_check  n_stores  n_items  n_transactions  mean_n_items_basket  ...  \\\n",
       "0   28.414219       100      192             544             8.359375  ...   \n",
       "1   28.414219        97      192             544             8.359375  ...   \n",
       "\n",
       "   user_factor_91  user_factor_92  user_factor_93  user_factor_94  \\\n",
       "0       -4.804476        9.204746       -7.786697        1.999745   \n",
       "1       -4.804476        9.204746       -7.786697        1.999745   \n",
       "\n",
       "   user_factor_95  user_factor_96  user_factor_97  user_factor_98  \\\n",
       "0       -7.989666        4.259147       -9.492896       -2.602082   \n",
       "1       -7.989666        4.259147       -9.492896       -2.602082   \n",
       "\n",
       "   user_factor_99  user_factor_100  \n",
       "0        2.914038         6.820467  \n",
       "1        2.914038         6.820467  \n",
       "\n",
       "[2 rows x 212 columns]"
      ]
     },
     "execution_count": 182,
     "metadata": {},
     "output_type": "execute_result"
    }
   ],
   "source": [
    "user_item_features = get_user_item_features(data_train)\n",
    "user_item_features.head(2)"
   ]
  },
  {
   "cell_type": "code",
   "execution_count": 183,
   "id": "f3871313",
   "metadata": {},
   "outputs": [
    {
     "data": {
      "application/vnd.jupyter.widget-view+json": {
       "model_id": "9f9a3d2608484d25ac28f33e33f4166a",
       "version_major": 2,
       "version_minor": 0
      },
      "text/plain": [
       "  0%|          | 0/15 [00:00<?, ?it/s]"
      ]
     },
     "metadata": {},
     "output_type": "display_data"
    },
    {
     "data": {
      "application/vnd.jupyter.widget-view+json": {
       "model_id": "6cdc059cc25247f7aabeb51c02efb12b",
       "version_major": 2,
       "version_minor": 0
      },
      "text/plain": [
       "  0%|          | 0/5001 [00:00<?, ?it/s]"
      ]
     },
     "metadata": {},
     "output_type": "display_data"
    },
    {
     "name": "stdout",
     "output_type": "stream",
     "text": [
      "число пользователей: 2101\n",
      "среднее число покупок: 0.0147\n"
     ]
    },
    {
     "data": {
      "text/html": [
       "<div>\n",
       "<style scoped>\n",
       "    .dataframe tbody tr th:only-of-type {\n",
       "        vertical-align: middle;\n",
       "    }\n",
       "\n",
       "    .dataframe tbody tr th {\n",
       "        vertical-align: top;\n",
       "    }\n",
       "\n",
       "    .dataframe thead th {\n",
       "        text-align: right;\n",
       "    }\n",
       "</style>\n",
       "<table border=\"1\" class=\"dataframe\">\n",
       "  <thead>\n",
       "    <tr style=\"text-align: right;\">\n",
       "      <th></th>\n",
       "      <th>user_id</th>\n",
       "      <th>item_id</th>\n",
       "      <th>target</th>\n",
       "      <th>age_desc</th>\n",
       "      <th>marital_status_code</th>\n",
       "      <th>income_desc</th>\n",
       "      <th>homeowner_desc</th>\n",
       "      <th>hh_comp_desc</th>\n",
       "      <th>household_size_desc</th>\n",
       "      <th>kid_category_desc</th>\n",
       "      <th>...</th>\n",
       "      <th>user_factor_91</th>\n",
       "      <th>user_factor_92</th>\n",
       "      <th>user_factor_93</th>\n",
       "      <th>user_factor_94</th>\n",
       "      <th>user_factor_95</th>\n",
       "      <th>user_factor_96</th>\n",
       "      <th>user_factor_97</th>\n",
       "      <th>user_factor_98</th>\n",
       "      <th>user_factor_99</th>\n",
       "      <th>user_factor_100</th>\n",
       "    </tr>\n",
       "  </thead>\n",
       "  <tbody>\n",
       "    <tr>\n",
       "      <th>0</th>\n",
       "      <td>1750</td>\n",
       "      <td>12524016</td>\n",
       "      <td>0.0</td>\n",
       "      <td>NaN</td>\n",
       "      <td>NaN</td>\n",
       "      <td>NaN</td>\n",
       "      <td>NaN</td>\n",
       "      <td>NaN</td>\n",
       "      <td>NaN</td>\n",
       "      <td>NaN</td>\n",
       "      <td>...</td>\n",
       "      <td>-0.078371</td>\n",
       "      <td>-1.384251</td>\n",
       "      <td>0.101575</td>\n",
       "      <td>1.124901</td>\n",
       "      <td>1.173251</td>\n",
       "      <td>-2.822936</td>\n",
       "      <td>-0.438222</td>\n",
       "      <td>1.896757</td>\n",
       "      <td>1.325849</td>\n",
       "      <td>-1.638433</td>\n",
       "    </tr>\n",
       "    <tr>\n",
       "      <th>1</th>\n",
       "      <td>1750</td>\n",
       "      <td>997479</td>\n",
       "      <td>0.0</td>\n",
       "      <td>NaN</td>\n",
       "      <td>NaN</td>\n",
       "      <td>NaN</td>\n",
       "      <td>NaN</td>\n",
       "      <td>NaN</td>\n",
       "      <td>NaN</td>\n",
       "      <td>NaN</td>\n",
       "      <td>...</td>\n",
       "      <td>-0.078371</td>\n",
       "      <td>-1.384251</td>\n",
       "      <td>0.101575</td>\n",
       "      <td>1.124901</td>\n",
       "      <td>1.173251</td>\n",
       "      <td>-2.822936</td>\n",
       "      <td>-0.438222</td>\n",
       "      <td>1.896757</td>\n",
       "      <td>1.325849</td>\n",
       "      <td>-1.638433</td>\n",
       "    </tr>\n",
       "  </tbody>\n",
       "</table>\n",
       "<p>2 rows × 232 columns</p>\n",
       "</div>"
      ],
      "text/plain": [
       "   user_id   item_id  target  age_desc  marital_status_code  income_desc  \\\n",
       "0     1750  12524016     0.0       NaN                  NaN          NaN   \n",
       "1     1750    997479     0.0       NaN                  NaN          NaN   \n",
       "\n",
       "   homeowner_desc  hh_comp_desc  household_size_desc  kid_category_desc  ...  \\\n",
       "0             NaN           NaN                  NaN                NaN  ...   \n",
       "1             NaN           NaN                  NaN                NaN  ...   \n",
       "\n",
       "   user_factor_91 user_factor_92  user_factor_93 user_factor_94  \\\n",
       "0       -0.078371      -1.384251        0.101575       1.124901   \n",
       "1       -0.078371      -1.384251        0.101575       1.124901   \n",
       "\n",
       "  user_factor_95 user_factor_96  user_factor_97  user_factor_98  \\\n",
       "0       1.173251      -2.822936       -0.438222        1.896757   \n",
       "1       1.173251      -2.822936       -0.438222        1.896757   \n",
       "\n",
       "   user_factor_99  user_factor_100  \n",
       "0        1.325849        -1.638433  \n",
       "1        1.325849        -1.638433  \n",
       "\n",
       "[2 rows x 232 columns]"
      ]
     },
     "execution_count": 183,
     "metadata": {},
     "output_type": "execute_result"
    }
   ],
   "source": [
    "targets_test = get_targets_lvl_2(data_train, data_valid, user_item_features, N, add_to_lvl_2)\n",
    "\n",
    "print(f'число пользователей: {targets_test.user_id.nunique()}')\n",
    "print(f'среднее число покупок: {round(targets_test[\"target\"].mean(), 4)}')\n",
    "\n",
    "targets_test.head(2)"
   ]
  },
  {
   "cell_type": "code",
   "execution_count": 184,
   "id": "eed6baae",
   "metadata": {},
   "outputs": [],
   "source": [
    "categorical = targets_test.describe(include=[object]).columns.tolist()"
   ]
  },
  {
   "cell_type": "code",
   "execution_count": 185,
   "id": "82bde27a",
   "metadata": {},
   "outputs": [],
   "source": [
    "targets_test[obj_col] = targets_test[obj_col].astype('category')"
   ]
  },
  {
   "cell_type": "code",
   "execution_count": 186,
   "id": "fd7123bd",
   "metadata": {
    "scrolled": true
   },
   "outputs": [
    {
     "data": {
      "text/plain": [
       "['user_id',\n",
       " 'item_id',\n",
       " 'target',\n",
       " 'age_desc',\n",
       " 'marital_status_code',\n",
       " 'income_desc',\n",
       " 'homeowner_desc',\n",
       " 'hh_comp_desc',\n",
       " 'household_size_desc',\n",
       " 'kid_category_desc',\n",
       " 'manufacturer',\n",
       " 'brand',\n",
       " 'manufacturer_freq',\n",
       " 'department_freq',\n",
       " 'commodity_desc_freq',\n",
       " 'sub_commodity_desc_freq',\n",
       " 'curr_size_of_product_freq',\n",
       " 'commodity_category',\n",
       " 'median_sales_hour',\n",
       " 'median_weekday',\n",
       " 'mean_visits_interval',\n",
       " 'mean_check',\n",
       " 'n_stores',\n",
       " 'n_items',\n",
       " 'n_transactions',\n",
       " 'mean_n_items_basket',\n",
       " 'max_n_items_basket',\n",
       " 'std_n_items_basket',\n",
       " 'factor_1',\n",
       " 'factor_2',\n",
       " 'factor_3',\n",
       " 'factor_4',\n",
       " 'factor_5',\n",
       " 'factor_6',\n",
       " 'factor_7',\n",
       " 'factor_8',\n",
       " 'factor_9',\n",
       " 'factor_10',\n",
       " 'factor_11',\n",
       " 'factor_12',\n",
       " 'factor_13',\n",
       " 'factor_14',\n",
       " 'factor_15',\n",
       " 'factor_16',\n",
       " 'factor_17',\n",
       " 'factor_18',\n",
       " 'factor_19',\n",
       " 'factor_20',\n",
       " 'factor_21',\n",
       " 'factor_22',\n",
       " 'factor_23',\n",
       " 'factor_24',\n",
       " 'factor_25',\n",
       " 'factor_26',\n",
       " 'factor_27',\n",
       " 'factor_28',\n",
       " 'factor_29',\n",
       " 'factor_30',\n",
       " 'factor_31',\n",
       " 'factor_32',\n",
       " 'factor_33',\n",
       " 'factor_34',\n",
       " 'factor_35',\n",
       " 'factor_36',\n",
       " 'factor_37',\n",
       " 'factor_38',\n",
       " 'factor_39',\n",
       " 'factor_40',\n",
       " 'factor_41',\n",
       " 'factor_42',\n",
       " 'factor_43',\n",
       " 'factor_44',\n",
       " 'factor_45',\n",
       " 'factor_46',\n",
       " 'factor_47',\n",
       " 'factor_48',\n",
       " 'factor_49',\n",
       " 'factor_50',\n",
       " 'factor_51',\n",
       " 'factor_52',\n",
       " 'factor_53',\n",
       " 'factor_54',\n",
       " 'factor_55',\n",
       " 'factor_56',\n",
       " 'factor_57',\n",
       " 'factor_58',\n",
       " 'factor_59',\n",
       " 'factor_60',\n",
       " 'factor_61',\n",
       " 'factor_62',\n",
       " 'factor_63',\n",
       " 'factor_64',\n",
       " 'factor_65',\n",
       " 'factor_66',\n",
       " 'factor_67',\n",
       " 'factor_68',\n",
       " 'factor_69',\n",
       " 'factor_70',\n",
       " 'factor_71',\n",
       " 'factor_72',\n",
       " 'factor_73',\n",
       " 'factor_74',\n",
       " 'factor_75',\n",
       " 'factor_76',\n",
       " 'factor_77',\n",
       " 'factor_78',\n",
       " 'factor_79',\n",
       " 'factor_80',\n",
       " 'factor_81',\n",
       " 'factor_82',\n",
       " 'factor_83',\n",
       " 'factor_84',\n",
       " 'factor_85',\n",
       " 'factor_86',\n",
       " 'factor_87',\n",
       " 'factor_88',\n",
       " 'factor_89',\n",
       " 'factor_90',\n",
       " 'factor_91',\n",
       " 'factor_92',\n",
       " 'factor_93',\n",
       " 'factor_94',\n",
       " 'factor_95',\n",
       " 'factor_96',\n",
       " 'factor_97',\n",
       " 'factor_98',\n",
       " 'factor_99',\n",
       " 'factor_100',\n",
       " 'user_factor_1',\n",
       " 'user_factor_2',\n",
       " 'user_factor_3',\n",
       " 'user_factor_4',\n",
       " 'user_factor_5',\n",
       " 'user_factor_6',\n",
       " 'user_factor_7',\n",
       " 'user_factor_8',\n",
       " 'user_factor_9',\n",
       " 'user_factor_10',\n",
       " 'user_factor_11',\n",
       " 'user_factor_12',\n",
       " 'user_factor_13',\n",
       " 'user_factor_14',\n",
       " 'user_factor_15',\n",
       " 'user_factor_16',\n",
       " 'user_factor_17',\n",
       " 'user_factor_18',\n",
       " 'user_factor_19',\n",
       " 'user_factor_20',\n",
       " 'user_factor_21',\n",
       " 'user_factor_22',\n",
       " 'user_factor_23',\n",
       " 'user_factor_24',\n",
       " 'user_factor_25',\n",
       " 'user_factor_26',\n",
       " 'user_factor_27',\n",
       " 'user_factor_28',\n",
       " 'user_factor_29',\n",
       " 'user_factor_30',\n",
       " 'user_factor_31',\n",
       " 'user_factor_32',\n",
       " 'user_factor_33',\n",
       " 'user_factor_34',\n",
       " 'user_factor_35',\n",
       " 'user_factor_36',\n",
       " 'user_factor_37',\n",
       " 'user_factor_38',\n",
       " 'user_factor_39',\n",
       " 'user_factor_40',\n",
       " 'user_factor_41',\n",
       " 'user_factor_42',\n",
       " 'user_factor_43',\n",
       " 'user_factor_44',\n",
       " 'user_factor_45',\n",
       " 'user_factor_46',\n",
       " 'user_factor_47',\n",
       " 'user_factor_48',\n",
       " 'user_factor_49',\n",
       " 'user_factor_50',\n",
       " 'user_factor_51',\n",
       " 'user_factor_52',\n",
       " 'user_factor_53',\n",
       " 'user_factor_54',\n",
       " 'user_factor_55',\n",
       " 'user_factor_56',\n",
       " 'user_factor_57',\n",
       " 'user_factor_58',\n",
       " 'user_factor_59',\n",
       " 'user_factor_60',\n",
       " 'user_factor_61',\n",
       " 'user_factor_62',\n",
       " 'user_factor_63',\n",
       " 'user_factor_64',\n",
       " 'user_factor_65',\n",
       " 'user_factor_66',\n",
       " 'user_factor_67',\n",
       " 'user_factor_68',\n",
       " 'user_factor_69',\n",
       " 'user_factor_70',\n",
       " 'user_factor_71',\n",
       " 'user_factor_72',\n",
       " 'user_factor_73',\n",
       " 'user_factor_74',\n",
       " 'user_factor_75',\n",
       " 'user_factor_76',\n",
       " 'user_factor_77',\n",
       " 'user_factor_78',\n",
       " 'user_factor_79',\n",
       " 'user_factor_80',\n",
       " 'user_factor_81',\n",
       " 'user_factor_82',\n",
       " 'user_factor_83',\n",
       " 'user_factor_84',\n",
       " 'user_factor_85',\n",
       " 'user_factor_86',\n",
       " 'user_factor_87',\n",
       " 'user_factor_88',\n",
       " 'user_factor_89',\n",
       " 'user_factor_90',\n",
       " 'user_factor_91',\n",
       " 'user_factor_92',\n",
       " 'user_factor_93',\n",
       " 'user_factor_94',\n",
       " 'user_factor_95',\n",
       " 'user_factor_96',\n",
       " 'user_factor_97',\n",
       " 'user_factor_98',\n",
       " 'user_factor_99',\n",
       " 'user_factor_100']"
      ]
     },
     "execution_count": 186,
     "metadata": {},
     "output_type": "execute_result"
    }
   ],
   "source": [
    "SELECTED_FEATURES_NAMES = [i for i in targets_test.columns if i not in categorical]\n",
    "SELECTED_FEATURES_NAMES"
   ]
  },
  {
   "cell_type": "code",
   "execution_count": 187,
   "id": "39d17495",
   "metadata": {},
   "outputs": [],
   "source": [
    "X_train = targets_test.drop('target', axis=1)\n",
    "y_train = targets_test[['target']]"
   ]
  },
  {
   "cell_type": "code",
   "execution_count": 188,
   "id": "0ea0097f",
   "metadata": {},
   "outputs": [
    {
     "name": "stderr",
     "output_type": "stream",
     "text": [
      "C:\\Users\\edive\\anaconda3\\lib\\site-packages\\sklearn\\preprocessing\\_label.py:235: DataConversionWarning: A column-vector y was passed when a 1d array was expected. Please change the shape of y to (n_samples, ), for example using ravel().\n",
      "  y = column_or_1d(y, warn=True)\n",
      "C:\\Users\\edive\\anaconda3\\lib\\site-packages\\sklearn\\preprocessing\\_label.py:268: DataConversionWarning: A column-vector y was passed when a 1d array was expected. Please change the shape of y to (n_samples, ), for example using ravel().\n",
      "  y = column_or_1d(y, warn=True)\n",
      "C:\\Users\\edive\\anaconda3\\lib\\site-packages\\lightgbm\\basic.py:1513: UserWarning: categorical_column in param dict is overridden.\n",
      "  _log_warning(f'{cat_alias} in param dict is overridden.')\n"
     ]
    },
    {
     "data": {
      "text/plain": [
       "LGBMClassifier(boosting_type='gbdt',\n",
       "               categorical_column=['department', 'commodity_desc',\n",
       "                                   'sub_commodity_desc',\n",
       "                                   'curr_size_of_product'],\n",
       "               class_weight=None, colsample_bytree=1.0, importance_type='split',\n",
       "               learning_rate=0.1, max_depth=7, min_child_samples=20,\n",
       "               min_child_weight=0.001, min_split_gain=0.0, n_estimators=100,\n",
       "               n_jobs=-1, num_leaves=31, objective='binary', random_state=None,\n",
       "               reg_alpha=0.0, reg_lambda=0.0, silent='warn', subsample=1.0,\n",
       "               subsample_for_bin=200000, subsample_freq=0)"
      ]
     },
     "execution_count": 188,
     "metadata": {},
     "output_type": "execute_result"
    }
   ],
   "source": [
    "lgb = LGBMClassifier(objective='binary', max_depth=7, categorical_column=categorical)\n",
    "lgb.fit(X_train, y_train)"
   ]
  },
  {
   "cell_type": "code",
   "execution_count": 189,
   "id": "44fa12f3",
   "metadata": {},
   "outputs": [],
   "source": [
    "predict_proba = lgb.predict_proba(X_train)"
   ]
  },
  {
   "cell_type": "code",
   "execution_count": 190,
   "id": "e4cc4fa5",
   "metadata": {},
   "outputs": [
    {
     "data": {
      "text/plain": [
       "0.9157901617221978"
      ]
     },
     "execution_count": 190,
     "metadata": {},
     "output_type": "execute_result"
    }
   ],
   "source": [
    "roc_auc_score(y_train, predict_proba[:, 1])"
   ]
  },
  {
   "cell_type": "code",
   "execution_count": 191,
   "id": "93d75b59",
   "metadata": {},
   "outputs": [],
   "source": [
    "targets_test['pred_proba'] = lgb.predict_proba(X_train)[:, 1]"
   ]
  },
  {
   "cell_type": "code",
   "execution_count": 192,
   "id": "d9ba0dcb",
   "metadata": {},
   "outputs": [],
   "source": [
    "result2 = data_valid.groupby('user_id')['item_id'].unique().reset_index()\n",
    "result2.columns=['user_id', 'actual']\n",
    "result2['preds'] = result2['user_id'].apply(lambda x: get_final_preds(targets_test, x, 100))"
   ]
  },
  {
   "cell_type": "code",
   "execution_count": 193,
   "id": "eea7ca8b",
   "metadata": {},
   "outputs": [
    {
     "data": {
      "text/plain": [
       "0.2979965655409258"
      ]
     },
     "execution_count": 193,
     "metadata": {},
     "output_type": "execute_result"
    }
   ],
   "source": [
    "result2.apply(lambda x: precision_at_k(x['preds'], x['actual'], 5), axis=1).mean()"
   ]
  },
  {
   "cell_type": "code",
   "execution_count": 194,
   "id": "45a7dbd4",
   "metadata": {},
   "outputs": [],
   "source": [
    "data = pd.read_csv('./retail_test.csv')"
   ]
  },
  {
   "cell_type": "code",
   "execution_count": 195,
   "id": "28dabbbf",
   "metadata": {},
   "outputs": [],
   "source": [
    "validation_weeks = 1\n",
    "data_train = data[data['week_no'] < data['week_no'].max() - validation_weeks]\n",
    "data_valid = data[data['week_no'] >= data['week_no'].max() - validation_weeks]\n",
    "users_lvl_1 = data_train.user_id.unique()\n",
    "users_lvl_2 = data_valid.user_id.unique()\n",
    "users_lvl_3 = test.user_id.unique()\n",
    "\n",
    "new_users_lvl_2 = list(set(users_lvl_2) - set(users_lvl_1))\n",
    "new_users_lvl_3 = list(set(users_lvl_3) - (set(users_lvl_1) | set(users_lvl_2)))\n",
    "\n",
    "add_to_lvl_2 = list(set(users_lvl_3) - (set(users_lvl_2)))"
   ]
  },
  {
   "cell_type": "code",
   "execution_count": 196,
   "id": "25d60f4a",
   "metadata": {},
   "outputs": [],
   "source": [
    "data_train = prefilter_items_result(data_train, item_features=item_features, take_n_popular=5000)"
   ]
  },
  {
   "cell_type": "code",
   "execution_count": 197,
   "id": "2e1d2aae",
   "metadata": {},
   "outputs": [
    {
     "data": {
      "application/vnd.jupyter.widget-view+json": {
       "model_id": "e7f0771a3c58409fb5d8449cf3c098f4",
       "version_major": 2,
       "version_minor": 0
      },
      "text/plain": [
       "  0%|          | 0/15 [00:00<?, ?it/s]"
      ]
     },
     "metadata": {},
     "output_type": "display_data"
    },
    {
     "data": {
      "application/vnd.jupyter.widget-view+json": {
       "model_id": "b313c7944dae4876bb834d3ca92c4436",
       "version_major": 2,
       "version_minor": 0
      },
      "text/plain": [
       "  0%|          | 0/169 [00:00<?, ?it/s]"
      ]
     },
     "metadata": {},
     "output_type": "display_data"
    },
    {
     "data": {
      "text/html": [
       "<div>\n",
       "<style scoped>\n",
       "    .dataframe tbody tr th:only-of-type {\n",
       "        vertical-align: middle;\n",
       "    }\n",
       "\n",
       "    .dataframe tbody tr th {\n",
       "        vertical-align: top;\n",
       "    }\n",
       "\n",
       "    .dataframe thead th {\n",
       "        text-align: right;\n",
       "    }\n",
       "</style>\n",
       "<table border=\"1\" class=\"dataframe\">\n",
       "  <thead>\n",
       "    <tr style=\"text-align: right;\">\n",
       "      <th></th>\n",
       "      <th>user_id</th>\n",
       "      <th>item_id</th>\n",
       "      <th>median_sales_hour</th>\n",
       "      <th>median_weekday</th>\n",
       "      <th>mean_visits_interval</th>\n",
       "      <th>mean_check</th>\n",
       "      <th>n_stores</th>\n",
       "      <th>n_items</th>\n",
       "      <th>n_transactions</th>\n",
       "      <th>mean_n_items_basket</th>\n",
       "      <th>...</th>\n",
       "      <th>user_factor_91</th>\n",
       "      <th>user_factor_92</th>\n",
       "      <th>user_factor_93</th>\n",
       "      <th>user_factor_94</th>\n",
       "      <th>user_factor_95</th>\n",
       "      <th>user_factor_96</th>\n",
       "      <th>user_factor_97</th>\n",
       "      <th>user_factor_98</th>\n",
       "      <th>user_factor_99</th>\n",
       "      <th>user_factor_100</th>\n",
       "    </tr>\n",
       "  </thead>\n",
       "  <tbody>\n",
       "    <tr>\n",
       "      <th>0</th>\n",
       "      <td>2</td>\n",
       "      <td>820165</td>\n",
       "      <td>17.0</td>\n",
       "      <td>3.0</td>\n",
       "      <td>NaN</td>\n",
       "      <td>33.74</td>\n",
       "      <td>56</td>\n",
       "      <td>15</td>\n",
       "      <td>15</td>\n",
       "      <td>15.0</td>\n",
       "      <td>...</td>\n",
       "      <td>5.931179</td>\n",
       "      <td>-0.446851</td>\n",
       "      <td>1.85968</td>\n",
       "      <td>0.932733</td>\n",
       "      <td>-1.380836</td>\n",
       "      <td>1.350375</td>\n",
       "      <td>3.009876</td>\n",
       "      <td>-1.065121</td>\n",
       "      <td>1.216467</td>\n",
       "      <td>1.013917</td>\n",
       "    </tr>\n",
       "    <tr>\n",
       "      <th>1</th>\n",
       "      <td>2</td>\n",
       "      <td>857849</td>\n",
       "      <td>17.0</td>\n",
       "      <td>3.0</td>\n",
       "      <td>NaN</td>\n",
       "      <td>33.74</td>\n",
       "      <td>13</td>\n",
       "      <td>15</td>\n",
       "      <td>15</td>\n",
       "      <td>15.0</td>\n",
       "      <td>...</td>\n",
       "      <td>5.931179</td>\n",
       "      <td>-0.446851</td>\n",
       "      <td>1.85968</td>\n",
       "      <td>0.932733</td>\n",
       "      <td>-1.380836</td>\n",
       "      <td>1.350375</td>\n",
       "      <td>3.009876</td>\n",
       "      <td>-1.065121</td>\n",
       "      <td>1.216467</td>\n",
       "      <td>1.013917</td>\n",
       "    </tr>\n",
       "  </tbody>\n",
       "</table>\n",
       "<p>2 rows × 212 columns</p>\n",
       "</div>"
      ],
      "text/plain": [
       "   user_id  item_id  median_sales_hour  median_weekday  mean_visits_interval  \\\n",
       "0        2   820165               17.0             3.0                   NaN   \n",
       "1        2   857849               17.0             3.0                   NaN   \n",
       "\n",
       "   mean_check  n_stores  n_items  n_transactions  mean_n_items_basket  ...  \\\n",
       "0       33.74        56       15              15                 15.0  ...   \n",
       "1       33.74        13       15              15                 15.0  ...   \n",
       "\n",
       "   user_factor_91  user_factor_92  user_factor_93  user_factor_94  \\\n",
       "0        5.931179       -0.446851         1.85968        0.932733   \n",
       "1        5.931179       -0.446851         1.85968        0.932733   \n",
       "\n",
       "   user_factor_95  user_factor_96  user_factor_97  user_factor_98  \\\n",
       "0       -1.380836        1.350375        3.009876       -1.065121   \n",
       "1       -1.380836        1.350375        3.009876       -1.065121   \n",
       "\n",
       "   user_factor_99  user_factor_100  \n",
       "0        1.216467         1.013917  \n",
       "1        1.216467         1.013917  \n",
       "\n",
       "[2 rows x 212 columns]"
      ]
     },
     "execution_count": 197,
     "metadata": {},
     "output_type": "execute_result"
    }
   ],
   "source": [
    "user_item_features = get_user_item_features(data_train)\n",
    "user_item_features.head(2)"
   ]
  },
  {
   "cell_type": "code",
   "execution_count": 198,
   "id": "b668bb17",
   "metadata": {},
   "outputs": [
    {
     "data": {
      "application/vnd.jupyter.widget-view+json": {
       "model_id": "824c78d2c02b4de4bbf038d9523d97e3",
       "version_major": 2,
       "version_minor": 0
      },
      "text/plain": [
       "  0%|          | 0/15 [00:00<?, ?it/s]"
      ]
     },
     "metadata": {},
     "output_type": "display_data"
    },
    {
     "data": {
      "application/vnd.jupyter.widget-view+json": {
       "model_id": "c8974d0bb295458b8584f3afb6798ead",
       "version_major": 2,
       "version_minor": 0
      },
      "text/plain": [
       "  0%|          | 0/169 [00:00<?, ?it/s]"
      ]
     },
     "metadata": {},
     "output_type": "display_data"
    }
   ],
   "source": [
    "N = 100\n",
    "targets_test = get_targets_lvl_2(data_train, data_valid, user_item_features, N, add_to_lvl_2)\n",
    "categorical = targets_test.describe(include=[object]).columns.tolist()\n",
    "targets_test[obj_col] = targets_test[obj_col].astype('category')"
   ]
  },
  {
   "cell_type": "code",
   "execution_count": 199,
   "id": "1505b9e4",
   "metadata": {},
   "outputs": [
    {
     "data": {
      "text/html": [
       "<div>\n",
       "<style scoped>\n",
       "    .dataframe tbody tr th:only-of-type {\n",
       "        vertical-align: middle;\n",
       "    }\n",
       "\n",
       "    .dataframe tbody tr th {\n",
       "        vertical-align: top;\n",
       "    }\n",
       "\n",
       "    .dataframe thead th {\n",
       "        text-align: right;\n",
       "    }\n",
       "</style>\n",
       "<table border=\"1\" class=\"dataframe\">\n",
       "  <thead>\n",
       "    <tr style=\"text-align: right;\">\n",
       "      <th></th>\n",
       "      <th>user_id</th>\n",
       "      <th>item_id</th>\n",
       "      <th>target</th>\n",
       "      <th>age_desc</th>\n",
       "      <th>marital_status_code</th>\n",
       "      <th>income_desc</th>\n",
       "      <th>homeowner_desc</th>\n",
       "      <th>hh_comp_desc</th>\n",
       "      <th>household_size_desc</th>\n",
       "      <th>kid_category_desc</th>\n",
       "      <th>...</th>\n",
       "      <th>user_factor_91</th>\n",
       "      <th>user_factor_92</th>\n",
       "      <th>user_factor_93</th>\n",
       "      <th>user_factor_94</th>\n",
       "      <th>user_factor_95</th>\n",
       "      <th>user_factor_96</th>\n",
       "      <th>user_factor_97</th>\n",
       "      <th>user_factor_98</th>\n",
       "      <th>user_factor_99</th>\n",
       "      <th>user_factor_100</th>\n",
       "    </tr>\n",
       "  </thead>\n",
       "  <tbody>\n",
       "    <tr>\n",
       "      <th>0</th>\n",
       "      <td>2120</td>\n",
       "      <td>1082185</td>\n",
       "      <td>0.0</td>\n",
       "      <td>NaN</td>\n",
       "      <td>NaN</td>\n",
       "      <td>NaN</td>\n",
       "      <td>NaN</td>\n",
       "      <td>NaN</td>\n",
       "      <td>NaN</td>\n",
       "      <td>NaN</td>\n",
       "      <td>...</td>\n",
       "      <td>NaN</td>\n",
       "      <td>NaN</td>\n",
       "      <td>NaN</td>\n",
       "      <td>NaN</td>\n",
       "      <td>NaN</td>\n",
       "      <td>NaN</td>\n",
       "      <td>NaN</td>\n",
       "      <td>NaN</td>\n",
       "      <td>NaN</td>\n",
       "      <td>NaN</td>\n",
       "    </tr>\n",
       "    <tr>\n",
       "      <th>1</th>\n",
       "      <td>2120</td>\n",
       "      <td>6534178</td>\n",
       "      <td>0.0</td>\n",
       "      <td>NaN</td>\n",
       "      <td>NaN</td>\n",
       "      <td>NaN</td>\n",
       "      <td>NaN</td>\n",
       "      <td>NaN</td>\n",
       "      <td>NaN</td>\n",
       "      <td>NaN</td>\n",
       "      <td>...</td>\n",
       "      <td>NaN</td>\n",
       "      <td>NaN</td>\n",
       "      <td>NaN</td>\n",
       "      <td>NaN</td>\n",
       "      <td>NaN</td>\n",
       "      <td>NaN</td>\n",
       "      <td>NaN</td>\n",
       "      <td>NaN</td>\n",
       "      <td>NaN</td>\n",
       "      <td>NaN</td>\n",
       "    </tr>\n",
       "    <tr>\n",
       "      <th>2</th>\n",
       "      <td>2120</td>\n",
       "      <td>995242</td>\n",
       "      <td>0.0</td>\n",
       "      <td>NaN</td>\n",
       "      <td>NaN</td>\n",
       "      <td>NaN</td>\n",
       "      <td>NaN</td>\n",
       "      <td>NaN</td>\n",
       "      <td>NaN</td>\n",
       "      <td>NaN</td>\n",
       "      <td>...</td>\n",
       "      <td>NaN</td>\n",
       "      <td>NaN</td>\n",
       "      <td>NaN</td>\n",
       "      <td>NaN</td>\n",
       "      <td>NaN</td>\n",
       "      <td>NaN</td>\n",
       "      <td>NaN</td>\n",
       "      <td>NaN</td>\n",
       "      <td>NaN</td>\n",
       "      <td>NaN</td>\n",
       "    </tr>\n",
       "    <tr>\n",
       "      <th>3</th>\n",
       "      <td>2120</td>\n",
       "      <td>1133018</td>\n",
       "      <td>0.0</td>\n",
       "      <td>NaN</td>\n",
       "      <td>NaN</td>\n",
       "      <td>NaN</td>\n",
       "      <td>NaN</td>\n",
       "      <td>NaN</td>\n",
       "      <td>NaN</td>\n",
       "      <td>NaN</td>\n",
       "      <td>...</td>\n",
       "      <td>NaN</td>\n",
       "      <td>NaN</td>\n",
       "      <td>NaN</td>\n",
       "      <td>NaN</td>\n",
       "      <td>NaN</td>\n",
       "      <td>NaN</td>\n",
       "      <td>NaN</td>\n",
       "      <td>NaN</td>\n",
       "      <td>NaN</td>\n",
       "      <td>NaN</td>\n",
       "    </tr>\n",
       "    <tr>\n",
       "      <th>4</th>\n",
       "      <td>2120</td>\n",
       "      <td>1029743</td>\n",
       "      <td>0.0</td>\n",
       "      <td>NaN</td>\n",
       "      <td>NaN</td>\n",
       "      <td>NaN</td>\n",
       "      <td>NaN</td>\n",
       "      <td>NaN</td>\n",
       "      <td>NaN</td>\n",
       "      <td>NaN</td>\n",
       "      <td>...</td>\n",
       "      <td>NaN</td>\n",
       "      <td>NaN</td>\n",
       "      <td>NaN</td>\n",
       "      <td>NaN</td>\n",
       "      <td>NaN</td>\n",
       "      <td>NaN</td>\n",
       "      <td>NaN</td>\n",
       "      <td>NaN</td>\n",
       "      <td>NaN</td>\n",
       "      <td>NaN</td>\n",
       "    </tr>\n",
       "  </tbody>\n",
       "</table>\n",
       "<p>5 rows × 232 columns</p>\n",
       "</div>"
      ],
      "text/plain": [
       "   user_id  item_id  target  age_desc  marital_status_code  income_desc  \\\n",
       "0     2120  1082185     0.0       NaN                  NaN          NaN   \n",
       "1     2120  6534178     0.0       NaN                  NaN          NaN   \n",
       "2     2120   995242     0.0       NaN                  NaN          NaN   \n",
       "3     2120  1133018     0.0       NaN                  NaN          NaN   \n",
       "4     2120  1029743     0.0       NaN                  NaN          NaN   \n",
       "\n",
       "   homeowner_desc  hh_comp_desc  household_size_desc  kid_category_desc  ...  \\\n",
       "0             NaN           NaN                  NaN                NaN  ...   \n",
       "1             NaN           NaN                  NaN                NaN  ...   \n",
       "2             NaN           NaN                  NaN                NaN  ...   \n",
       "3             NaN           NaN                  NaN                NaN  ...   \n",
       "4             NaN           NaN                  NaN                NaN  ...   \n",
       "\n",
       "   user_factor_91 user_factor_92  user_factor_93 user_factor_94  \\\n",
       "0             NaN            NaN             NaN            NaN   \n",
       "1             NaN            NaN             NaN            NaN   \n",
       "2             NaN            NaN             NaN            NaN   \n",
       "3             NaN            NaN             NaN            NaN   \n",
       "4             NaN            NaN             NaN            NaN   \n",
       "\n",
       "  user_factor_95 user_factor_96  user_factor_97  user_factor_98  \\\n",
       "0            NaN            NaN             NaN             NaN   \n",
       "1            NaN            NaN             NaN             NaN   \n",
       "2            NaN            NaN             NaN             NaN   \n",
       "3            NaN            NaN             NaN             NaN   \n",
       "4            NaN            NaN             NaN             NaN   \n",
       "\n",
       "   user_factor_99  user_factor_100  \n",
       "0             NaN              NaN  \n",
       "1             NaN              NaN  \n",
       "2             NaN              NaN  \n",
       "3             NaN              NaN  \n",
       "4             NaN              NaN  \n",
       "\n",
       "[5 rows x 232 columns]"
      ]
     },
     "execution_count": 199,
     "metadata": {},
     "output_type": "execute_result"
    }
   ],
   "source": [
    "targets_test.head()"
   ]
  },
  {
   "cell_type": "code",
   "execution_count": 202,
   "id": "ba7a88b7",
   "metadata": {},
   "outputs": [],
   "source": [
    "targets_test.drop('pred_proba', axis=1, inplace=True)"
   ]
  },
  {
   "cell_type": "code",
   "execution_count": 203,
   "id": "2f1d8cec",
   "metadata": {},
   "outputs": [],
   "source": [
    "predict_proba = lgb.predict_proba(targets_test.drop('target', axis=1))"
   ]
  },
  {
   "cell_type": "code",
   "execution_count": 204,
   "id": "ab31fa70",
   "metadata": {},
   "outputs": [],
   "source": [
    "targets_test['pred_proba'] = lgb.predict_proba(targets_test.drop('target', axis=1))[:, 1]"
   ]
  },
  {
   "cell_type": "code",
   "execution_count": 205,
   "id": "24e4f8f3",
   "metadata": {},
   "outputs": [
    {
     "data": {
      "text/plain": [
       "0.697088213993639"
      ]
     },
     "execution_count": 205,
     "metadata": {},
     "output_type": "execute_result"
    }
   ],
   "source": [
    "roc_auc_score(targets_test['target'], predict_proba[:, 1])"
   ]
  },
  {
   "cell_type": "code",
   "execution_count": 206,
   "id": "a63e82dd",
   "metadata": {},
   "outputs": [],
   "source": [
    "result3 = data_valid.groupby('user_id')['item_id'].unique().reset_index()\n",
    "result3.columns=['user_id', 'actual']\n",
    "result3['preds'] = result3['user_id'].apply(lambda x: get_final_preds(targets_test, x, 50))"
   ]
  },
  {
   "cell_type": "code",
   "execution_count": 207,
   "id": "cae1b204",
   "metadata": {},
   "outputs": [
    {
     "data": {
      "text/plain": [
       "0.12648586266589665"
      ]
     },
     "execution_count": 207,
     "metadata": {},
     "output_type": "execute_result"
    }
   ],
   "source": [
    "result3.apply(lambda x: precision_at_k(x['preds'], x['actual'], 5), axis=1).mean()"
   ]
  },
  {
   "cell_type": "code",
   "execution_count": 208,
   "id": "4a1d4781",
   "metadata": {},
   "outputs": [],
   "source": [
    "result4 = data.groupby('user_id')['item_id'].unique().reset_index()"
   ]
  },
  {
   "cell_type": "code",
   "execution_count": 209,
   "id": "d4ef94c3",
   "metadata": {},
   "outputs": [],
   "source": [
    "result4.columns=['user_id', 'actual']"
   ]
  },
  {
   "cell_type": "code",
   "execution_count": 210,
   "id": "6c6b8579",
   "metadata": {},
   "outputs": [],
   "source": [
    "result4['preds'] = result4['user_id'].apply(lambda x: get_final_preds(targets_test, x, 50))"
   ]
  },
  {
   "cell_type": "code",
   "execution_count": 211,
   "id": "0bc31864",
   "metadata": {},
   "outputs": [
    {
     "data": {
      "text/plain": [
       "0.31098143236074316"
      ]
     },
     "execution_count": 211,
     "metadata": {},
     "output_type": "execute_result"
    }
   ],
   "source": [
    "result4.apply(lambda x: precision_at_k(x['preds'], x['actual'], 5), axis=1).mean()"
   ]
  },
  {
   "cell_type": "markdown",
   "id": "be384edc",
   "metadata": {},
   "source": [
    "# 31%"
   ]
  },
  {
   "cell_type": "code",
   "execution_count": null,
   "id": "24413774",
   "metadata": {},
   "outputs": [],
   "source": []
  }
 ],
 "metadata": {
  "kernelspec": {
   "display_name": "Python 3",
   "language": "python",
   "name": "python3"
  },
  "language_info": {
   "codemirror_mode": {
    "name": "ipython",
    "version": 3
   },
   "file_extension": ".py",
   "mimetype": "text/x-python",
   "name": "python",
   "nbconvert_exporter": "python",
   "pygments_lexer": "ipython3",
   "version": "3.7.6"
  }
 },
 "nbformat": 4,
 "nbformat_minor": 5
}
